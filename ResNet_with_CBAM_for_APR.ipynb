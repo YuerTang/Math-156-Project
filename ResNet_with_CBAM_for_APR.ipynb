{
  "cells": [
    {
      "cell_type": "code",
      "execution_count": 121,
      "metadata": {
        "id": "6T-p8KTQNj_K"
      },
      "outputs": [],
      "source": [
        "# %%capture\n",
        "# %pip install pytorch-ignite"
      ]
    },
    {
      "cell_type": "code",
      "execution_count": 122,
      "metadata": {
        "id": "HIa4MdIn_UHP"
      },
      "outputs": [],
      "source": [
        "# from ignite.engine import Engine, Events\n",
        "# from ignite.handlers import EarlyStopping\n",
        "# from ignite.metrics import Loss\n",
        "# from ignite.contrib.handlers import ProgressBar"
      ]
    },
    {
      "cell_type": "code",
      "execution_count": 123,
      "metadata": {
        "colab": {
          "base_uri": "https://localhost:8080/"
        },
        "id": "Lt4303hD-Nkj",
        "outputId": "494dacbc-71f7-4cef-e5fa-cbdb5d404dff"
      },
      "outputs": [
        {
          "name": "stdout",
          "output_type": "stream",
          "text": [
            "Drive already mounted at /content/drive; to attempt to forcibly remount, call drive.mount(\"/content/drive\", force_remount=True).\n"
          ]
        }
      ],
      "source": [
        "import os\n",
        "import torch\n",
        "import torch.nn as nn\n",
        "import torch.nn.functional as F\n",
        "from sklearn.metrics import mean_squared_error\n",
        "\n",
        "from torch.utils.data import Dataset, random_split\n",
        "from PIL import Image\n",
        "from torchvision import transforms\n",
        "\n",
        "from google.colab import drive\n",
        "drive.mount('/content/drive')\n",
        "\n",
        "# make sure you have this Math156 folder or you may have to change this to ur current directory\n",
        "os.chdir('/content/drive/MyDrive/Colab Notebooks/Math156')"
      ]
    },
    {
      "cell_type": "markdown",
      "metadata": {
        "id": "gvcdNyUL-RZ6"
      },
      "source": [
        "## Reading and preprocessing data"
      ]
    },
    {
      "cell_type": "code",
      "execution_count": 124,
      "metadata": {
        "id": "aL78Pbk5-O4I"
      },
      "outputs": [],
      "source": [
        "class PoseDataset(Dataset):\n",
        "    def __init__(self, annotation_file, root_dir, transform=None):\n",
        "        self.annotations = []\n",
        "        with open(annotation_file, 'r') as f:\n",
        "            for line in f:\n",
        "                parts = line.strip().split()\n",
        "                if len(parts) < 2:\n",
        "                    continue  # skip invalid lines\n",
        "\n",
        "                img_path = parts[0]\n",
        "                try:\n",
        "                    target = list(map(float, parts[1:]))\n",
        "                except ValueError:\n",
        "                    continue  # skip lines with non-numeric targets\n",
        "\n",
        "                self.annotations.append((img_path, torch.tensor(target, dtype=torch.float32)))\n",
        "\n",
        "        self.root_dir = root_dir\n",
        "        self.transform = transform or transforms.Compose([\n",
        "            transforms.Resize((224, 224)),\n",
        "            transforms.ToTensor(),\n",
        "            transforms.Normalize(mean=[0.5]*3, std=[0.5]*3)\n",
        "        ])\n",
        "\n",
        "    def __len__(self):\n",
        "        return len(self.annotations)\n",
        "\n",
        "    def __getitem__(self, idx):\n",
        "        img_rel_path, target = self.annotations[idx]\n",
        "        img_path = os.path.join(self.root_dir, img_rel_path)\n",
        "        image = Image.open(img_path).convert('RGB')\n",
        "        if self.transform:\n",
        "            image = self.transform(image)\n",
        "        return image, target"
      ]
    },
    {
      "cell_type": "markdown",
      "metadata": {
        "id": "tha3zru6-bE5"
      },
      "source": [
        "## Channel Attention Module"
      ]
    },
    {
      "cell_type": "code",
      "execution_count": 125,
      "metadata": {
        "id": "xvVJiKJK-PoL"
      },
      "outputs": [],
      "source": [
        "# Channel Attention Module\n",
        "class ChannelAttention(nn.Module):\n",
        "    def __init__(self, in_planes, ratio=16):\n",
        "        super().__init__()\n",
        "        self.avg_pool = nn.AdaptiveAvgPool2d(1)  # [C,1,1]\n",
        "        self.max_pool = nn.AdaptiveMaxPool2d(1)\n",
        "\n",
        "        self.shared_MLP = nn.Sequential(\n",
        "            nn.Conv2d(in_planes, in_planes // ratio, 1, bias=False),\n",
        "            nn.ReLU(),\n",
        "            nn.Conv2d(in_planes // ratio, in_planes, 1, bias=False)\n",
        "        )\n",
        "        self.sigmoid = nn.Sigmoid()\n",
        "\n",
        "    def forward(self, x):\n",
        "        avg_out = self.shared_MLP(self.avg_pool(x))\n",
        "        max_out = self.shared_MLP(self.max_pool(x))\n",
        "        return self.sigmoid(avg_out + max_out) * x"
      ]
    },
    {
      "cell_type": "markdown",
      "metadata": {
        "id": "OHV6E9iC-YDB"
      },
      "source": [
        "## Spatial Attention Module"
      ]
    },
    {
      "cell_type": "code",
      "execution_count": 126,
      "metadata": {
        "id": "Ir9f7sC8-P_o"
      },
      "outputs": [],
      "source": [
        "# Spatial Attention Module\n",
        "class SpatialAttention(nn.Module):\n",
        "    def __init__(self):\n",
        "        super().__init__()\n",
        "        kernel_size=KERNAL_SIZE\n",
        "        padding = (kernel_size - 1) // 2\n",
        "\n",
        "        self.conv = nn.Conv2d(2, 1, kernel_size, padding=padding, bias=False)\n",
        "        self.sigmoid = nn.Sigmoid()\n",
        "\n",
        "    def forward(self, x):\n",
        "        avg_out = torch.mean(x, dim=1, keepdim=True)         # [B,1,H,W]\n",
        "        max_out, _ = torch.max(x, dim=1, keepdim=True)\n",
        "        x_cat = torch.cat([avg_out, max_out], dim=1)         # [B,2,H,W]\n",
        "        return self.sigmoid(self.conv(x_cat)) * x"
      ]
    },
    {
      "cell_type": "markdown",
      "metadata": {
        "id": "VGDsC7Xt-iDP"
      },
      "source": [
        "## CBAM"
      ]
    },
    {
      "cell_type": "code",
      "execution_count": 127,
      "metadata": {
        "id": "ompn0EMg-Qh4"
      },
      "outputs": [],
      "source": [
        "# Combined CBAM\n",
        "class CBAM(nn.Module):\n",
        "    def __init__(self, in_planes, ratio=16, kernel_size=7):\n",
        "        super().__init__()\n",
        "        self.ca = ChannelAttention(in_planes, ratio)\n",
        "        self.sa = SpatialAttention()\n",
        "\n",
        "    def forward(self, x):\n",
        "        x = self.ca(x)\n",
        "        x = self.sa(x)\n",
        "        return x"
      ]
    },
    {
      "cell_type": "markdown",
      "metadata": {
        "id": "0JU7j903-ozG"
      },
      "source": [
        "## Convolutional Block / Layer with CBAM"
      ]
    },
    {
      "cell_type": "code",
      "execution_count": 128,
      "metadata": {
        "id": "Cw_M5S_u-yZS"
      },
      "outputs": [],
      "source": [
        "class BasicBlockWithCBAM(nn.Module):\n",
        "    expansion = 1\n",
        "\n",
        "    def __init__(self, in_planes, planes, stride=1, downsample=None):\n",
        "        super().__init__()\n",
        "        self.conv1 = nn.Conv2d(in_planes, planes, kernel_size=3, stride=stride,\n",
        "                               padding=1, bias=False)\n",
        "        self.bn1 = nn.BatchNorm2d(planes)\n",
        "        self.relu = nn.ReLU(inplace=True)\n",
        "        self.conv2 = nn.Conv2d(planes, planes, kernel_size=3, stride=1,\n",
        "                               padding=1, bias=False)\n",
        "        self.bn2 = nn.BatchNorm2d(planes)\n",
        "\n",
        "        self.cbam = CBAM(planes)\n",
        "\n",
        "        self.downsample = downsample\n",
        "        self.stride = stride\n",
        "\n",
        "    def forward(self, x):\n",
        "        identity = x\n",
        "\n",
        "        out = self.relu(self.bn1(self.conv1(x)))\n",
        "        out = self.bn2(self.conv2(out))\n",
        "\n",
        "        out = self.cbam(out)\n",
        "\n",
        "        if self.downsample is not None:\n",
        "            identity = self.downsample(x)\n",
        "\n",
        "        out += identity\n",
        "        out = self.relu(out)\n",
        "        return out"
      ]
    },
    {
      "cell_type": "markdown",
      "metadata": {
        "id": "kxUSsIai-voE"
      },
      "source": [
        "## PoseRegressor"
      ]
    },
    {
      "cell_type": "code",
      "execution_count": 129,
      "metadata": {
        "id": "jwFArOAbJCOx"
      },
      "outputs": [],
      "source": [
        "class PoseRegressor(nn.Module):\n",
        "    \"\"\" A simple MLP to regress a pose component\"\"\"\n",
        "\n",
        "    def __init__(self, decoder_dim, output_dim, use_prior=False):\n",
        "        \"\"\"\n",
        "        decoder_dim: (int) the input dimension\n",
        "        output_dim: (int) the outpur dimension\n",
        "        use_prior: (bool) whether to use prior information\n",
        "        \"\"\"\n",
        "        super().__init__()\n",
        "        ch = 1024\n",
        "        self.fc_h = nn.Linear(decoder_dim, ch)\n",
        "        self.use_prior = use_prior\n",
        "        if self.use_prior:\n",
        "            self.fc_h_prior = nn.Linear(decoder_dim * 2, ch)\n",
        "        self.fc_o = nn.Linear(ch, output_dim)\n",
        "        self._reset_parameters()\n",
        "\n",
        "    def _reset_parameters(self):\n",
        "        for p in self.parameters():\n",
        "            if p.dim() > 1:\n",
        "                nn.init.xavier_uniform_(p)\n",
        "\n",
        "    def forward(self, x):\n",
        "        \"\"\"\n",
        "        Forward pass\n",
        "        \"\"\"\n",
        "        if self.use_prior:\n",
        "            x = F.gelu(self.fc_h_prior(x))\n",
        "        else:\n",
        "            x = F.gelu(self.fc_h(x))\n",
        "\n",
        "        return self.fc_o(x)"
      ]
    },
    {
      "cell_type": "markdown",
      "metadata": {
        "id": "4ZzLNJbmCjUh"
      },
      "source": [
        "## PoseLoss"
      ]
    },
    {
      "cell_type": "code",
      "execution_count": 130,
      "metadata": {
        "id": "lxHCf2OC8xUg"
      },
      "outputs": [],
      "source": [
        "class CameraPoseLoss(nn.Module):\n",
        "    \"\"\"\n",
        "    A class to represent camera pose loss with optional learnable weights.\n",
        "    \"\"\"\n",
        "\n",
        "    def __init__(self, config):\n",
        "        \"\"\"\n",
        "        :param config: (dict) Configuration dictionary with keys:\n",
        "            - \"learnable\": (bool) Whether s_x and s_q are learnable\n",
        "            - \"s_x\": (float) Initial weight for position loss\n",
        "            - \"s_q\": (float) Initial weight for orientation loss\n",
        "            - \"norm\": (int or float) Norm type for distance (1 for L1, 2 for L2, etc.)\n",
        "        \"\"\"\n",
        "        super(CameraPoseLoss, self).__init__()\n",
        "        self.learnable = config.get(\"learnable\", False)\n",
        "        self.norm = config.get(\"norm\", 2)\n",
        "\n",
        "        s_x = torch.tensor([config.get(\"s_x\")], dtype=torch.float32)\n",
        "        s_q = torch.tensor([config.get(\"s_q\")], dtype=torch.float32)\n",
        "\n",
        "        self.s_x = nn.Parameter(s_x, requires_grad=self.learnable)\n",
        "        self.s_q = nn.Parameter(s_q, requires_grad=self.learnable)\n",
        "\n",
        "    def forward(self, est_pose, gt_pose):\n",
        "        \"\"\"\n",
        "        Compute the camera pose loss.\n",
        "\n",
        "        :param est_pose: (torch.Tensor) Nx7 estimated pose tensor\n",
        "        :param gt_pose: (torch.Tensor) Nx7 ground truth pose tensor\n",
        "        :return: l_x, l_q, total_loss\n",
        "        \"\"\"\n",
        "        # Position loss\n",
        "        l_x = torch.norm(gt_pose[:, :3] - est_pose[:, :3], p=self.norm, dim=1).mean()\n",
        "\n",
        "        # Orientation loss using normalized quaternions\n",
        "        est_q = F.normalize(est_pose[:, 3:], p=2, dim=1)\n",
        "        gt_q = F.normalize(gt_pose[:, 3:], p=2, dim=1)\n",
        "        l_q = torch.norm(gt_q - est_q, p=self.norm, dim=1).mean()\n",
        "\n",
        "        # Total loss\n",
        "        if self.learnable:\n",
        "            total_loss = l_x * torch.exp(-self.s_x) + self.s_x + l_q * torch.exp(-self.s_q) + self.s_q\n",
        "        else:\n",
        "            total_loss = self.s_x * l_x + self.s_q * l_q\n",
        "\n",
        "        return total_loss"
      ]
    },
    {
      "cell_type": "markdown",
      "metadata": {
        "id": "s4G1Sa5t-4MO"
      },
      "source": [
        "## ResNet with CBAM"
      ]
    },
    {
      "cell_type": "code",
      "execution_count": 131,
      "metadata": {
        "id": "CVmcB9GI-yz8"
      },
      "outputs": [],
      "source": [
        "class ResNetCBAM(nn.Module):\n",
        "    def __init__(self, block, layers, pos_dim=3, orien_dim=4):\n",
        "        super().__init__()\n",
        "        self.in_planes = 64\n",
        "\n",
        "        self.conv1 = nn.Conv2d(3, 64, kernel_size=7, stride=2, padding=3, bias=False)\n",
        "        self.bn1 = nn.BatchNorm2d(64)\n",
        "        self.relu = nn.ReLU(inplace=True)\n",
        "        self.maxpool = nn.MaxPool2d(kernel_size=3, stride=2, padding=1)\n",
        "\n",
        "        self.layer1 = self._make_layer(block, 64,  layers[0])\n",
        "        self.layer2 = self._make_layer(block, 128, layers[1], stride=2)\n",
        "        self.layer3 = self._make_layer(block, 256, layers[2], stride=2)\n",
        "        self.layer4 = self._make_layer(block, 512, layers[3], stride=2)\n",
        "\n",
        "        self.avgpool = nn.AdaptiveAvgPool2d((1, 1))\n",
        "\n",
        "        self.pos_fc = PoseRegressor(512 * block.expansion, pos_dim)\n",
        "        self.orien_fc = PoseRegressor(512 * block.expansion, orien_dim)\n",
        "\n",
        "    def _make_layer(self, block, planes, blocks, stride=1):\n",
        "        downsample = None\n",
        "        if stride != 1 or self.in_planes != planes * block.expansion:\n",
        "            downsample = nn.Sequential(\n",
        "                nn.Conv2d(self.in_planes, planes * block.expansion,\n",
        "                          kernel_size=1, stride=stride, bias=False),\n",
        "                nn.BatchNorm2d(planes * block.expansion)\n",
        "            )\n",
        "\n",
        "        layers = []\n",
        "        layers.append(block(self.in_planes, planes, stride, downsample))\n",
        "        self.in_planes = planes * block.expansion\n",
        "        for _ in range(1, blocks):\n",
        "            layers.append(block(self.in_planes, planes))\n",
        "\n",
        "        return nn.Sequential(*layers)\n",
        "\n",
        "    def forward(self, x):\n",
        "        x = self.relu(self.bn1(self.conv1(x)))\n",
        "        x = self.maxpool(x)\n",
        "\n",
        "        x = self.layer1(x)  # -> [B, 64, H/4, W/4]\n",
        "        x = self.layer2(x)  # -> [B, 128, H/8, W/8]\n",
        "        x = self.layer3(x)  # -> [B, 256, H/16, W/16]\n",
        "        x = self.layer4(x)  # -> [B, 512, H/32, W/32]\n",
        "\n",
        "        x = self.avgpool(x)  # -> [B, 512, 1, 1]\n",
        "        x = torch.flatten(x, 1)\n",
        "\n",
        "        # → regression output\n",
        "        position = self.pos_fc(x)\n",
        "        orientation = self.orien_fc(x)\n",
        "\n",
        "        return torch.cat([position, orientation], dim=1)"
      ]
    },
    {
      "cell_type": "markdown",
      "metadata": {
        "id": "C3JZnzR6-9N1"
      },
      "source": [
        "## Train and validation data split"
      ]
    },
    {
      "cell_type": "code",
      "execution_count": 132,
      "metadata": {
        "id": "5iLkukWeMroQ"
      },
      "outputs": [],
      "source": [
        "full_dataset = PoseDataset(annotation_file='KingsCollege/dataset_train.txt', root_dir='KingsCollege')\n",
        "\n",
        "train_size = int(0.8 * len(full_dataset))\n",
        "val_size = len(full_dataset) - train_size\n",
        "\n",
        "train_dataset, val_dataset = random_split(full_dataset, [train_size, val_size])\n",
        "\n",
        "train_loader = torch.utils.data.DataLoader(train_dataset, batch_size=32, shuffle=True)\n",
        "val_loader = torch.utils.data.DataLoader(val_dataset, batch_size=32, shuffle=False)"
      ]
    },
    {
      "cell_type": "code",
      "execution_count": 133,
      "metadata": {
        "id": "a1XepUXM_WT5"
      },
      "outputs": [],
      "source": [
        "config = {\n",
        "    \"learnable\": True,\n",
        "    \"s_x\": 0.0,\n",
        "    \"s_q\": -3.0,\n",
        "    \"norm\": 2\n",
        "}\n",
        "\n",
        "criterion = CameraPoseLoss(config)"
      ]
    },
    {
      "cell_type": "markdown",
      "metadata": {
        "id": "pE1AHxXt_D9k"
      },
      "source": [
        "## Train model"
      ]
    },
    {
      "cell_type": "code",
      "execution_count": 134,
      "metadata": {
        "colab": {
          "base_uri": "https://localhost:8080/"
        },
        "id": "OAZ1XPyQxnan",
        "outputId": "ca2e1f97-fb52-4f55-860b-55b30087c05b"
      },
      "outputs": [
        {
          "name": "stdout",
          "output_type": "stream",
          "text": [
            "Epoch 1: Training Loss = 38.0917  Validation Loss = 38.7399 s_x = 0.0030  s_q = -2.9983\n",
            "Epoch 2: Training Loss = 17.3213  Validation Loss = 27.1847 s_x = 0.0051  s_q = -2.9975\n",
            "Epoch 3: Training Loss = 9.6006  Validation Loss = 6.6700 s_x = 0.0065  s_q = -2.9968\n",
            "Epoch 4: Training Loss = 7.1426  Validation Loss = 5.3270 s_x = 0.0076  s_q = -2.9962\n",
            "Epoch 5: Training Loss = 5.8660  Validation Loss = 5.0478 s_x = 0.0087  s_q = -2.9957\n",
            "Epoch 6: Training Loss = 4.8027  Validation Loss = 8.1314 s_x = 0.0096  s_q = -2.9953\n",
            "Epoch 7: Training Loss = 4.2421  Validation Loss = 7.2186 s_x = 0.0107  s_q = -2.9948\n",
            "Epoch 8: Training Loss = 3.4475  Validation Loss = 2.8237 s_x = 0.0116  s_q = -2.9945\n",
            "Epoch 9: Training Loss = 3.4743  Validation Loss = 3.6361 s_x = 0.0125  s_q = -2.9942\n",
            "Epoch 10: Training Loss = 3.6809  Validation Loss = 2.4984 s_x = 0.0136  s_q = -2.9940\n",
            "Epoch 11: Training Loss = 2.9861  Validation Loss = 3.9958 s_x = 0.0146  s_q = -2.9939\n",
            "Epoch 12: Training Loss = 3.4252  Validation Loss = 2.2278 s_x = 0.0156  s_q = -2.9936\n",
            "Epoch 13: Training Loss = 2.2080  Validation Loss = 3.2736 s_x = 0.0165  s_q = -2.9935\n",
            "Epoch 14: Training Loss = 2.1035  Validation Loss = 1.8849 s_x = 0.0174  s_q = -2.9935\n",
            "Epoch 15: Training Loss = 1.5843  Validation Loss = 2.1455 s_x = 0.0182  s_q = -2.9936\n",
            "Epoch 16: Training Loss = 1.5937  Validation Loss = 2.5750 s_x = 0.0190  s_q = -2.9938\n",
            "Epoch 17: Training Loss = 1.1779  Validation Loss = 2.3069 s_x = 0.0198  s_q = -2.9940\n",
            "Epoch 18: Training Loss = 1.7364  Validation Loss = 4.5595 s_x = 0.0206  s_q = -2.9942\n",
            "Epoch 19: Training Loss = 1.3631  Validation Loss = 1.3742 s_x = 0.0215  s_q = -2.9944\n",
            "Epoch 20: Training Loss = 0.9929  Validation Loss = 2.3309 s_x = 0.0222  s_q = -2.9946\n",
            "Epoch 21: Training Loss = 0.8368  Validation Loss = 0.6559 s_x = 0.0229  s_q = -2.9948\n",
            "Epoch 22: Training Loss = 0.7227  Validation Loss = 0.7146 s_x = 0.0237  s_q = -2.9952\n",
            "Epoch 23: Training Loss = 1.0368  Validation Loss = 2.1836 s_x = 0.0245  s_q = -2.9958\n",
            "Epoch 24: Training Loss = 0.5837  Validation Loss = 1.0637 s_x = 0.0251  s_q = -2.9962\n",
            "Epoch 25: Training Loss = 0.5061  Validation Loss = 1.4018 s_x = 0.0259  s_q = -2.9968\n",
            "Epoch 26: Training Loss = 0.5494  Validation Loss = 1.9761 s_x = 0.0266  s_q = -2.9975\n",
            "Epoch 27: Training Loss = 0.8304  Validation Loss = 0.8530 s_x = 0.0275  s_q = -2.9981\n",
            "Epoch 28: Training Loss = 0.1859  Validation Loss = 2.9730 s_x = 0.0281  s_q = -2.9988\n",
            "Epoch 29: Training Loss = 0.2176  Validation Loss = 2.2666 s_x = 0.0289  s_q = -2.9995\n",
            "Epoch 30: Training Loss = 0.6827  Validation Loss = 1.0872 s_x = 0.0296  s_q = -3.0002\n",
            "Epoch 31: Training Loss = 0.0443  Validation Loss = 2.1626 s_x = 0.0303  s_q = -3.0011\n",
            "Early stopping at epoch 31\n"
          ]
        }
      ],
      "source": [
        "training_loss_tracker = []\n",
        "validation_loss_tracker = []\n",
        "\n",
        "model = ResNetCBAM(BasicBlockWithCBAM, [2, 2, 2, 2], pos_dim=3, orien_dim=4)\n",
        "device = torch.device(\"cuda\" if torch.cuda.is_available() else \"cpu\")\n",
        "\n",
        "model = model.to(device)\n",
        "criterion = criterion.to(device)\n",
        "\n",
        "# Adam\n",
        "optimizer = torch.optim.Adam(\n",
        "    list(model.parameters()) + list(criterion.parameters()),\n",
        "    lr=1e-4\n",
        ")\n",
        "\n",
        "# Early stopping parameters\n",
        "patience = 10\n",
        "min_delta = 0.001\n",
        "best_val_loss = float('inf')\n",
        "epochs_no_improve = 0\n",
        "\n",
        "\n",
        "# Train\n",
        "for epoch in range(100):\n",
        "    model.train()\n",
        "    training_loss = 0.0\n",
        "\n",
        "    for imgs, labels in train_loader:\n",
        "        imgs, labels = imgs.to(device), labels.to(device)\n",
        "        optimizer.zero_grad()\n",
        "\n",
        "        est_pose = model(imgs)\n",
        "        loss = criterion(est_pose, labels)\n",
        "\n",
        "        loss.backward()\n",
        "        optimizer.step()\n",
        "\n",
        "        training_loss += loss.item()\n",
        "\n",
        "    avg_training_loss = training_loss / len(train_loader)\n",
        "    training_loss_tracker.append(avg_training_loss)\n",
        "\n",
        "    # Validation\n",
        "    model.eval()\n",
        "    validation_loss = 0.0\n",
        "\n",
        "    with torch.no_grad():\n",
        "        for imgs, labels in val_loader:\n",
        "            imgs, labels = imgs.to(device), labels.to(device)\n",
        "            est_pose = model(imgs)\n",
        "\n",
        "            val_loss = criterion(est_pose, labels)\n",
        "            validation_loss += val_loss.item()\n",
        "\n",
        "    avg_validation_loss = validation_loss / len(val_loader)\n",
        "    validation_loss_tracker.append(avg_validation_loss)\n",
        "\n",
        "    print(f\"Epoch {epoch + 1}: Training Loss = {avg_training_loss:.4f}  Validation Loss = {avg_validation_loss:.4f} s_x = {criterion.s_x.item():.4f}  s_q = {criterion.s_q.item():.4f}\")\n",
        "\n",
        "    # Early stopping check\n",
        "    if avg_validation_loss < best_val_loss - min_delta:\n",
        "        best_val_loss = avg_validation_loss\n",
        "        epochs_no_improve = 0\n",
        "    else:\n",
        "        epochs_no_improve += 1\n",
        "\n",
        "    if epochs_no_improve == patience:\n",
        "        print(f\"Early stopping at epoch {epoch + 1}\")\n",
        "        break"
      ]
    },
    {
      "cell_type": "code",
      "execution_count": 141,
      "metadata": {
        "colab": {
          "base_uri": "https://localhost:8080/",
          "height": 472
        },
        "id": "vhED6e5hRXKy",
        "outputId": "ca313773-19b3-4886-ebeb-b8c793aeb580"
      },
      "outputs": [
        {
          "data": {
            "image/png": "[encoded data removed]",
            "text/plain": [
              "<Figure size 640x480 with 1 Axes>"
            ]
          },
          "metadata": {},
          "output_type": "display_data"
        }
      ],
      "source": [
        "import seaborn as sns\n",
        "import matplotlib.pyplot as plt\n",
        "\n",
        "sns.lineplot(x=range(len(training_loss_tracker)), y=training_loss_tracker, label='Training Loss')\n",
        "sns.lineplot(x=range(len(validation_loss_tracker)), y=validation_loss_tracker, label='Validation Loss')\n",
        "plt.xlabel('Epoch')\n",
        "plt.ylabel('Loss')\n",
        "plt.title('Training and Validation Loss Over Epochs')\n",
        "plt.legend()\n",
        "plt.show()"
      ]
    },
    {
      "cell_type": "code",
      "execution_count": 142,
      "metadata": {
        "id": "n_U7efF1a36m"
      },
      "outputs": [],
      "source": [
        "# torch.save(model.state_dict(), 'resnet_cbam_pose_regressor.pth')\n",
        "\n",
        "# loss_config = {\n",
        "#     \"learnable\": criterion.learnable,\n",
        "#     \"s_x\": criterion.s_x.item(),\n",
        "#     \"s_q\": criterion.s_q.item(),\n",
        "#     \"norm\": criterion.norm\n",
        "# }\n",
        "# torch.save(loss_config, 'camera_pose_loss_config.pth')"
      ]
    },
    {
      "cell_type": "code",
      "execution_count": null,
      "metadata": {
        "id": "cQMpGSkabSzy"
      },
      "outputs": [],
      "source": [
        "# loss_config = torch.load('camera_pose_loss_config.pth')\n",
        "# loaded_criterion = CameraPoseLoss(loss_config)\n",
        "\n",
        "# loaded_model = ResNetCBAM(BasicBlockWithCBAM, [2, 2, 2, 2], pos_dim=3, orien_dim=4)\n",
        "\n",
        "# loaded_model.load_state_dict(torch.load('resnet_cbam_pose_regressor.pth'))\n",
        "\n",
        "# loaded_model = loaded_model.to(device)\n",
        "# loaded_criterion = loaded_criterion.to(device)"
      ]
    },
    {
      "cell_type": "code",
      "execution_count": 136,
      "metadata": {
        "id": "9PB6sE-ZPgHt"
      },
      "outputs": [],
      "source": [
        "# # I want to tried the early stopping but it does not stop\n",
        "\n",
        "# # Model setup\n",
        "# model = ResNetCBAM(BasicBlockWithCBAM, [2, 2, 2, 2], pos_dim=3, orien_dim=4)\n",
        "# device = torch.device(\"cuda\" if torch.cuda.is_available() else \"cpu\")\n",
        "# model = model.to(device)\n",
        "\n",
        "# criterion = nn.MSELoss()\n",
        "# optimizer = torch.optim.Adam(model.parameters(), lr=1e-4)\n",
        "\n",
        "# # --- Define training step ---\n",
        "# def train_step(engine, batch):\n",
        "#     model.train()\n",
        "#     imgs, labels = batch\n",
        "#     imgs, labels = imgs.to(device), labels.to(device)\n",
        "#     optimizer.zero_grad()\n",
        "#     outputs = model(imgs)\n",
        "#     loss = criterion(outputs, labels)\n",
        "#     loss.backward()\n",
        "#     optimizer.step()\n",
        "#     # Return outputs and labels for the Loss metric\n",
        "#     return outputs, labels\n",
        "\n",
        "# # --- Define evaluation step ---\n",
        "# def eval_step(engine, batch):\n",
        "#     model.eval()\n",
        "#     with torch.no_grad():\n",
        "#         imgs, labels = batch\n",
        "#         imgs, labels = imgs.to(device), labels.to(device)\n",
        "#         outputs = model(imgs)\n",
        "#         return outputs, labels\n",
        "\n",
        "# # Create trainer and evaluator\n",
        "# trainer = Engine(train_step)\n",
        "# evaluator = Engine(eval_step)\n",
        "\n",
        "# # Attach metrics\n",
        "# # The Loss metric for the trainer will now receive outputs and labels\n",
        "# Loss(criterion).attach(trainer, \"train_loss\")\n",
        "# Loss(criterion).attach(evaluator, \"val_loss\")\n",
        "\n",
        "# # Early stopping\n",
        "# def score_function(engine):\n",
        "#     return -engine.state.metrics[\"val_loss\"]  # Lower loss = higher score\n",
        "\n",
        "# early_stopping = EarlyStopping(patience=5, score_function=score_function, trainer=trainer)\n",
        "# evaluator.add_event_handler(Events.COMPLETED, early_stopping)\n",
        "\n",
        "# # Progress bar\n",
        "# ProgressBar().attach(trainer)\n",
        "\n",
        "# # Logging both training and validation loss\n",
        "# @trainer.on(Events.EPOCH_COMPLETED)\n",
        "# def log_results(engine):\n",
        "#     train_loss = engine.state.metrics[\"train_loss\"]\n",
        "#     evaluator.run(val_loader)\n",
        "#     val_loss = evaluator.state.metrics[\"val_loss\"]\n",
        "#     print(f\"Epoch {engine.state.epoch} - Training Loss: {train_loss:.4f} | Validation Loss: {val_loss:.4f}\")\n",
        "\n",
        "# # Start training\n",
        "# trainer.run(train_loader, max_epochs=100)"
      ]
    },
    {
      "cell_type": "markdown",
      "metadata": {
        "id": "joi8pdVy_KWr"
      },
      "source": [
        "## Test model"
      ]
    },
    {
      "cell_type": "code",
      "execution_count": 137,
      "metadata": {
        "id": "9HLOdkR6AH3c"
      },
      "outputs": [],
      "source": [
        "test_dataset = PoseDataset(annotation_file='KingsCollege/dataset_test.txt', root_dir='KingsCollege')\n",
        "test_loader = torch.utils.data.DataLoader(test_dataset, batch_size=32, shuffle=True)"
      ]
    },
    {
      "cell_type": "code",
      "execution_count": 138,
      "metadata": {
        "colab": {
          "base_uri": "https://localhost:8080/"
        },
        "id": "fEirUrJbATTB",
        "outputId": "015bfee2-0e11-4f01-f68d-39953e25ac7f"
      },
      "outputs": [
        {
          "name": "stdout",
          "output_type": "stream",
          "text": [
            "Test Loss: 3.4098\n"
          ]
        }
      ],
      "source": [
        "model.eval()  # Set model to evaluation mode once\n",
        "\n",
        "test_loss = 0.0\n",
        "all_preds = []\n",
        "all_labels = []\n",
        "\n",
        "with torch.no_grad():  # Disable gradient computation globally\n",
        "    for imgs, labels in test_loader:\n",
        "        imgs, labels = imgs.to(device), labels.to(device)\n",
        "        outputs = model(imgs)\n",
        "\n",
        "        loss = criterion(outputs, labels)\n",
        "        test_loss += loss.item()\n",
        "\n",
        "        all_preds.append(outputs.cpu())\n",
        "        all_labels.append(labels.cpu())\n",
        "\n",
        "test_loss /= len(test_loader)\n",
        "\n",
        "all_preds = torch.cat(all_preds)\n",
        "all_labels = torch.cat(all_labels)\n",
        "\n",
        "print(f\"Test Loss: {test_loss:.4f}\")"
      ]
    },
    {
      "cell_type": "code",
      "execution_count": 140,
      "metadata": {
        "id": "XtbiFjbmQzE8"
      },
      "outputs": [],
      "source": []
    }
  ],
  "metadata": {
    "accelerator": "GPU",
    "colab": {
      "gpuType": "T4",
      "provenance": []
    },
    "kernelspec": {
      "display_name": "Python 3",
      "name": "python3"
    },
    "language_info": {
      "name": "python"
    }
  },
  "nbformat": 4,
  "nbformat_minor": 0
}
