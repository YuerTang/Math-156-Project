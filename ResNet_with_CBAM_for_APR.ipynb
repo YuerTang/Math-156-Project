{
  "nbformat": 4,
  "nbformat_minor": 0,
  "metadata": {
    "colab": {
      "provenance": []
    },
    "kernelspec": {
      "name": "python3",
      "display_name": "Python 3"
    },
    "language_info": {
      "name": "python"
    }
  },
  "cells": [
    {
      "cell_type": "code",
      "source": [
        "# %%capture\n",
        "# %pip install pytorch-ignite"
      ],
      "metadata": {
        "id": "6T-p8KTQNj_K"
      },
      "execution_count": null,
      "outputs": []
    },
    {
      "cell_type": "code",
      "source": [
        "# from ignite.engine import Engine, Events\n",
        "# from ignite.handlers import EarlyStopping\n",
        "# from ignite.metrics import Loss\n",
        "# from ignite.contrib.handlers import ProgressBar"
      ],
      "metadata": {
        "id": "HIa4MdIn_UHP"
      },
      "execution_count": null,
      "outputs": []
    },
    {
      "cell_type": "code",
      "source": [
        "import os\n",
        "import torch\n",
        "import torch.nn as nn\n",
        "import torch.nn.functional as F\n",
        "from sklearn.metrics import mean_squared_error\n",
        "\n",
        "from torch.utils.data import Dataset, random_split\n",
        "from PIL import Image\n",
        "from torchvision import transforms\n",
        "\n",
        "from google.colab import drive\n",
        "drive.mount('/content/drive')\n",
        "\n",
        "# make sure you have this Math156 folder or you may have to change this to ur current directory\n",
        "os.chdir('/content/drive/MyDrive/Colab Notebooks/Math156')"
      ],
      "metadata": {
        "colab": {
          "base_uri": "https://localhost:8080/"
        },
        "id": "Lt4303hD-Nkj",
        "outputId": "8627ac73-db5a-4200-abac-c257a5b79445"
      },
      "execution_count": null,
      "outputs": [
        {
          "output_type": "stream",
          "name": "stdout",
          "text": [
            "Drive already mounted at /content/drive; to attempt to forcibly remount, call drive.mount(\"/content/drive\", force_remount=True).\n"
          ]
        }
      ]
    },
    {
      "cell_type": "markdown",
      "source": [
        "## Reading and preprocessing data"
      ],
      "metadata": {
        "id": "gvcdNyUL-RZ6"
      }
    },
    {
      "cell_type": "code",
      "source": [
        "class PoseDataset(Dataset):\n",
        "    def __init__(self, annotation_file, root_dir, transform=None):\n",
        "        self.annotations = []\n",
        "        with open(annotation_file, 'r') as f:\n",
        "            for i, line in enumerate(f):\n",
        "              if i < 3 or i > 10:\n",
        "                continue\n",
        "\n",
        "              parts = line.strip().split()\n",
        "              img_path = parts[0]\n",
        "              target = list(map(float, parts[1:]))\n",
        "              self.annotations.append((img_path, torch.tensor(target, dtype=torch.float32)))\n",
        "\n",
        "        self.root_dir = root_dir\n",
        "        self.transform = transform or transforms.Compose([\n",
        "            transforms.Resize((224, 224)),\n",
        "            transforms.ToTensor(),\n",
        "            transforms.Normalize(mean=[0.5]*3, std=[0.5]*3)\n",
        "        ])\n",
        "\n",
        "    def __len__(self):\n",
        "        return len(self.annotations)\n",
        "\n",
        "    def __getitem__(self, idx):\n",
        "        img_rel_path, target = self.annotations[idx]\n",
        "        img_path = os.path.join(self.root_dir, img_rel_path)\n",
        "        image = Image.open(img_path).convert('RGB')\n",
        "        if self.transform:\n",
        "            image = self.transform(image)\n",
        "        return image, target"
      ],
      "metadata": {
        "id": "aL78Pbk5-O4I"
      },
      "execution_count": null,
      "outputs": []
    },
    {
      "cell_type": "markdown",
      "source": [
        "## Channel Attention Module"
      ],
      "metadata": {
        "id": "tha3zru6-bE5"
      }
    },
    {
      "cell_type": "code",
      "source": [
        "# Channel Attention Module\n",
        "class ChannelAttention(nn.Module):\n",
        "    def __init__(self, in_planes, ratio=16):\n",
        "        super().__init__()\n",
        "        self.avg_pool = nn.AdaptiveAvgPool2d(1)  # [C,1,1]\n",
        "        self.max_pool = nn.AdaptiveMaxPool2d(1)\n",
        "\n",
        "        self.shared_MLP = nn.Sequential(\n",
        "            nn.Conv2d(in_planes, in_planes // ratio, 1, bias=False),\n",
        "            nn.ReLU(),\n",
        "            nn.Conv2d(in_planes // ratio, in_planes, 1, bias=False)\n",
        "        )\n",
        "        self.sigmoid = nn.Sigmoid()\n",
        "\n",
        "    def forward(self, x):\n",
        "        avg_out = self.shared_MLP(self.avg_pool(x))\n",
        "        max_out = self.shared_MLP(self.max_pool(x))\n",
        "        return self.sigmoid(avg_out + max_out) * x"
      ],
      "metadata": {
        "id": "xvVJiKJK-PoL"
      },
      "execution_count": null,
      "outputs": []
    },
    {
      "cell_type": "markdown",
      "source": [
        "## Spatial Attention Module"
      ],
      "metadata": {
        "id": "OHV6E9iC-YDB"
      }
    },
    {
      "cell_type": "code",
      "source": [
        "# Spatial Attention Module\n",
        "class SpatialAttention(nn.Module):\n",
        "    def __init__(self):\n",
        "        super().__init__()\n",
        "        kernel_size=KERNAL_SIZE\n",
        "        padding = (kernel_size - 1) // 2\n",
        "\n",
        "        self.conv = nn.Conv2d(2, 1, kernel_size, padding=padding, bias=False)\n",
        "        self.sigmoid = nn.Sigmoid()\n",
        "\n",
        "    def forward(self, x):\n",
        "        avg_out = torch.mean(x, dim=1, keepdim=True)         # [B,1,H,W]\n",
        "        max_out, _ = torch.max(x, dim=1, keepdim=True)\n",
        "        x_cat = torch.cat([avg_out, max_out], dim=1)         # [B,2,H,W]\n",
        "        return self.sigmoid(self.conv(x_cat)) * x"
      ],
      "metadata": {
        "id": "Ir9f7sC8-P_o"
      },
      "execution_count": null,
      "outputs": []
    },
    {
      "cell_type": "markdown",
      "source": [
        "## CBAM"
      ],
      "metadata": {
        "id": "VGDsC7Xt-iDP"
      }
    },
    {
      "cell_type": "code",
      "source": [
        "# Combined CBAM\n",
        "class CBAM(nn.Module):\n",
        "    def __init__(self, in_planes, ratio=16, kernel_size=7):\n",
        "        super().__init__()\n",
        "        self.ca = ChannelAttention(in_planes, ratio)\n",
        "        self.sa = SpatialAttention()\n",
        "\n",
        "    def forward(self, x):\n",
        "        x = self.ca(x)\n",
        "        x = self.sa(x)\n",
        "        return x"
      ],
      "metadata": {
        "id": "ompn0EMg-Qh4"
      },
      "execution_count": null,
      "outputs": []
    },
    {
      "cell_type": "markdown",
      "source": [
        "## Convolutional Block / Layer with CBAM"
      ],
      "metadata": {
        "id": "0JU7j903-ozG"
      }
    },
    {
      "cell_type": "code",
      "source": [
        "class BasicBlockWithCBAM(nn.Module):\n",
        "    expansion = 1\n",
        "\n",
        "    def __init__(self, in_planes, planes, stride=1, downsample=None):\n",
        "        super().__init__()\n",
        "        self.conv1 = nn.Conv2d(in_planes, planes, kernel_size=3, stride=stride,\n",
        "                               padding=1, bias=False)\n",
        "        self.bn1 = nn.BatchNorm2d(planes)\n",
        "        self.relu = nn.ReLU(inplace=True)\n",
        "        self.conv2 = nn.Conv2d(planes, planes, kernel_size=3, stride=1,\n",
        "                               padding=1, bias=False)\n",
        "        self.bn2 = nn.BatchNorm2d(planes)\n",
        "\n",
        "        self.cbam = CBAM(planes)\n",
        "\n",
        "        self.downsample = downsample\n",
        "        self.stride = stride\n",
        "\n",
        "    def forward(self, x):\n",
        "        identity = x\n",
        "\n",
        "        out = self.relu(self.bn1(self.conv1(x)))\n",
        "        out = self.bn2(self.conv2(out))\n",
        "\n",
        "        out = self.cbam(out)\n",
        "\n",
        "        if self.downsample is not None:\n",
        "            identity = self.downsample(x)\n",
        "\n",
        "        out += identity\n",
        "        out = self.relu(out)\n",
        "        return out"
      ],
      "metadata": {
        "id": "Cw_M5S_u-yZS"
      },
      "execution_count": null,
      "outputs": []
    },
    {
      "cell_type": "markdown",
      "source": [
        "## PoseRegressor"
      ],
      "metadata": {
        "id": "kxUSsIai-voE"
      }
    },
    {
      "cell_type": "code",
      "source": [
        "class PoseRegressor(nn.Module):\n",
        "    \"\"\" A simple MLP to regress a pose component\"\"\"\n",
        "\n",
        "    def __init__(self, decoder_dim, output_dim, use_prior=False):\n",
        "        \"\"\"\n",
        "        decoder_dim: (int) the input dimension\n",
        "        output_dim: (int) the outpur dimension\n",
        "        use_prior: (bool) whether to use prior information\n",
        "        \"\"\"\n",
        "        super().__init__()\n",
        "        ch = 1024\n",
        "        self.fc_h = nn.Linear(decoder_dim, ch)\n",
        "        self.use_prior = use_prior\n",
        "        if self.use_prior:\n",
        "            self.fc_h_prior = nn.Linear(decoder_dim * 2, ch)\n",
        "        self.fc_o = nn.Linear(ch, output_dim)\n",
        "        self._reset_parameters()\n",
        "\n",
        "    def _reset_parameters(self):\n",
        "        for p in self.parameters():\n",
        "            if p.dim() > 1:\n",
        "                nn.init.xavier_uniform_(p)\n",
        "\n",
        "    def forward(self, x):\n",
        "        \"\"\"\n",
        "        Forward pass\n",
        "        \"\"\"\n",
        "        if self.use_prior:\n",
        "            x = F.gelu(self.fc_h_prior(x))\n",
        "        else:\n",
        "            x = F.gelu(self.fc_h(x))\n",
        "\n",
        "        return self.fc_o(x)"
      ],
      "metadata": {
        "id": "jwFArOAbJCOx"
      },
      "execution_count": null,
      "outputs": []
    },
    {
      "cell_type": "markdown",
      "source": [
        "## ResNet with CBAM"
      ],
      "metadata": {
        "id": "s4G1Sa5t-4MO"
      }
    },
    {
      "cell_type": "code",
      "source": [
        "class ResNetCBAM(nn.Module):\n",
        "    def __init__(self, block, layers, pos_dim=3, orien_dim=4):\n",
        "        super().__init__()\n",
        "        self.in_planes = 64\n",
        "\n",
        "        self.conv1 = nn.Conv2d(3, 64, kernel_size=7, stride=2, padding=3, bias=False)\n",
        "        self.bn1 = nn.BatchNorm2d(64)\n",
        "        self.relu = nn.ReLU(inplace=True)\n",
        "        self.maxpool = nn.MaxPool2d(kernel_size=3, stride=2, padding=1)\n",
        "\n",
        "        self.layer1 = self._make_layer(block, 64,  layers[0])\n",
        "        self.layer2 = self._make_layer(block, 128, layers[1], stride=2)\n",
        "        self.layer3 = self._make_layer(block, 256, layers[2], stride=2)\n",
        "        self.layer4 = self._make_layer(block, 512, layers[3], stride=2)\n",
        "\n",
        "        self.avgpool = nn.AdaptiveAvgPool2d((1, 1))\n",
        "\n",
        "        self.pos_fc = PoseRegressor(512 * block.expansion, pos_dim)\n",
        "        self.orien_fc = PoseRegressor(512 * block.expansion, orien_dim)\n",
        "\n",
        "    def _make_layer(self, block, planes, blocks, stride=1):\n",
        "        downsample = None\n",
        "        if stride != 1 or self.in_planes != planes * block.expansion:\n",
        "            downsample = nn.Sequential(\n",
        "                nn.Conv2d(self.in_planes, planes * block.expansion,\n",
        "                          kernel_size=1, stride=stride, bias=False),\n",
        "                nn.BatchNorm2d(planes * block.expansion)\n",
        "            )\n",
        "\n",
        "        layers = []\n",
        "        layers.append(block(self.in_planes, planes, stride, downsample))\n",
        "        self.in_planes = planes * block.expansion\n",
        "        for _ in range(1, blocks):\n",
        "            layers.append(block(self.in_planes, planes))\n",
        "\n",
        "        return nn.Sequential(*layers)\n",
        "\n",
        "    def forward(self, x):\n",
        "        x = self.relu(self.bn1(self.conv1(x)))\n",
        "        x = self.maxpool(x)\n",
        "\n",
        "        x = self.layer1(x)  # -> [B, 64, H/4, W/4]\n",
        "        x = self.layer2(x)  # -> [B, 128, H/8, W/8]\n",
        "        x = self.layer3(x)  # -> [B, 256, H/16, W/16]\n",
        "        x = self.layer4(x)  # -> [B, 512, H/32, W/32]\n",
        "\n",
        "        x = self.avgpool(x)  # -> [B, 512, 1, 1]\n",
        "        x = torch.flatten(x, 1)\n",
        "\n",
        "        # → regression output\n",
        "        position = self.pos_fc(x)\n",
        "        orientation = self.orien_fc(x)\n",
        "        output = torch.concat([position, orientation], dim = 1)\n",
        "\n",
        "        return output"
      ],
      "metadata": {
        "id": "CVmcB9GI-yz8"
      },
      "execution_count": null,
      "outputs": []
    },
    {
      "cell_type": "markdown",
      "source": [
        "## Train and validation data split"
      ],
      "metadata": {
        "id": "C3JZnzR6-9N1"
      }
    },
    {
      "cell_type": "code",
      "source": [
        "full_dataset = PoseDataset(annotation_file='KingsCollege/dataset_train.txt', root_dir='KingsCollege')\n",
        "\n",
        "train_size = int(0.8 * len(full_dataset))\n",
        "val_size = len(full_dataset) - train_size\n",
        "\n",
        "train_dataset, val_dataset = random_split(full_dataset, [train_size, val_size])\n",
        "\n",
        "train_loader = torch.utils.data.DataLoader(train_dataset, batch_size=32, shuffle=True)\n",
        "val_loader = torch.utils.data.DataLoader(val_dataset, batch_size=32, shuffle=False)"
      ],
      "metadata": {
        "id": "5iLkukWeMroQ"
      },
      "execution_count": null,
      "outputs": []
    },
    {
      "cell_type": "markdown",
      "source": [
        "## Train model"
      ],
      "metadata": {
        "id": "pE1AHxXt_D9k"
      }
    },
    {
      "cell_type": "code",
      "execution_count": null,
      "metadata": {
        "id": "OAZ1XPyQxnan",
        "colab": {
          "base_uri": "https://localhost:8080/"
        },
        "outputId": "96286694-7253-4acf-9e3b-dcb409f7bd3f"
      },
      "outputs": [
        {
          "output_type": "stream",
          "name": "stdout",
          "text": [
            "tensor([[ 0.3133, -0.0321,  0.1525,  0.3342, -0.1199, -0.4065,  0.0992],\n",
            "        [ 0.3458,  0.0517,  0.1030,  0.3466, -0.0750, -0.4476,  0.0571],\n",
            "        [ 0.3713,  0.0235,  0.1640,  0.2296, -0.0542, -0.4789,  0.0784],\n",
            "        [ 0.3161,  0.0223,  0.1779,  0.3686, -0.0444, -0.5054, -0.0042],\n",
            "        [ 0.3528,  0.0533,  0.2114,  0.3954, -0.1032, -0.4623, -0.0452],\n",
            "        [ 0.3384,  0.0304,  0.2121,  0.3122, -0.1123, -0.4203,  0.0533]],\n",
            "       device='cuda:0', grad_fn=<CatBackward0>)\n",
            "Epoch 1: Training Loss = 45.4613   Validation Loss = 41.9343\n",
            "Epoch 2: Training Loss = 40.9451   Validation Loss = 41.8148\n",
            "Epoch 3: Training Loss = 37.1143   Validation Loss = 41.5700\n",
            "Epoch 4: Training Loss = 33.6845   Validation Loss = 41.2197\n",
            "Epoch 5: Training Loss = 30.5251   Validation Loss = 40.7732\n",
            "Epoch 6: Training Loss = 27.5635   Validation Loss = 40.2352\n",
            "Epoch 7: Training Loss = 24.7751   Validation Loss = 39.6098\n",
            "Epoch 8: Training Loss = 22.1569   Validation Loss = 38.9028\n",
            "Epoch 9: Training Loss = 19.7005   Validation Loss = 38.1200\n",
            "Epoch 10: Training Loss = 17.3901   Validation Loss = 37.2655\n",
            "Epoch 11: Training Loss = 15.2137   Validation Loss = 36.3454\n",
            "Epoch 12: Training Loss = 13.1617   Validation Loss = 35.3678\n",
            "Epoch 13: Training Loss = 11.2394   Validation Loss = 34.3439\n",
            "Epoch 14: Training Loss = 9.4472   Validation Loss = 33.2832\n",
            "Epoch 15: Training Loss = 7.7970   Validation Loss = 32.1941\n",
            "Epoch 16: Training Loss = 6.3016   Validation Loss = 31.0869\n",
            "Epoch 17: Training Loss = 4.9601   Validation Loss = 29.9692\n",
            "Epoch 18: Training Loss = 3.7749   Validation Loss = 28.8463\n",
            "Epoch 19: Training Loss = 2.7513   Validation Loss = 27.7222\n",
            "Epoch 20: Training Loss = 1.8923   Validation Loss = 26.6052\n",
            "tensor([[ -8.4534, -10.7379,   1.8992,   0.7277,   0.6722,  -0.3869,   0.3927],\n",
            "        [-10.9769, -10.4235,   1.6600,   0.6276,   0.5099,  -0.2987,   0.4095],\n",
            "        [-11.9141, -10.4277,   1.7490,   0.6506,   0.5239,  -0.2440,   0.3294],\n",
            "        [ -7.6169, -10.9461,   1.8969,   0.6400,   0.4523,  -0.3188,   0.3553],\n",
            "        [-10.1041, -10.2610,   1.8484,   0.6629,   0.6197,  -0.4079,   0.3507],\n",
            "        [-11.3957, -10.1623,   1.8950,   0.6577,   0.6489,  -0.3351,   0.3835]],\n",
            "       device='cuda:0', grad_fn=<CatBackward0>)\n",
            "Epoch 21: Training Loss = 1.2045   Validation Loss = 25.4982\n",
            "Epoch 22: Training Loss = 0.6852   Validation Loss = 24.4048\n",
            "Epoch 23: Training Loss = 0.3255   Validation Loss = 23.3327\n",
            "Epoch 24: Training Loss = 0.1100   Validation Loss = 22.2896\n",
            "Epoch 25: Training Loss = 0.0206   Validation Loss = 21.2777\n",
            "Epoch 26: Training Loss = 0.0350   Validation Loss = 20.3046\n",
            "Epoch 27: Training Loss = 0.1248   Validation Loss = 19.3754\n",
            "Epoch 28: Training Loss = 0.2552   Validation Loss = 18.4900\n",
            "Epoch 29: Training Loss = 0.3882   Validation Loss = 17.6556\n",
            "Epoch 30: Training Loss = 0.4883   Validation Loss = 16.8645\n",
            "Epoch 31: Training Loss = 0.5265   Validation Loss = 16.1133\n",
            "Epoch 32: Training Loss = 0.4855   Validation Loss = 15.3844\n",
            "Epoch 33: Training Loss = 0.3664   Validation Loss = 14.6470\n",
            "Epoch 34: Training Loss = 0.2055   Validation Loss = 13.8799\n",
            "Epoch 35: Training Loss = 0.0724   Validation Loss = 13.0719\n",
            "Epoch 36: Training Loss = 0.0276   Validation Loss = 12.2221\n",
            "Epoch 37: Training Loss = 0.0628   Validation Loss = 11.3963\n",
            "Epoch 38: Training Loss = 0.1184   Validation Loss = 10.6254\n",
            "Epoch 39: Training Loss = 0.1412   Validation Loss = 9.9085\n",
            "Epoch 40: Training Loss = 0.1193   Validation Loss = 9.2325\n",
            "tensor([[ -9.9922, -12.2422,   1.4657,   0.6907,   0.6617,  -0.3365,   0.3342],\n",
            "        [-14.0213, -11.3374,   1.5948,   0.6938,   0.6493,  -0.3214,   0.4219],\n",
            "        [ -8.6101, -12.3781,   1.5855,   0.7314,   0.6021,  -0.3148,   0.4417],\n",
            "        [-13.3446, -11.5278,   1.6231,   0.6665,   0.6798,  -0.3095,   0.4419],\n",
            "        [-12.7601, -11.7864,   1.6862,   0.7253,   0.6309,  -0.2788,   0.4211],\n",
            "        [-12.0728, -11.7679,   1.5709,   0.7179,   0.6786,  -0.3206,   0.4159]],\n",
            "       device='cuda:0', grad_fn=<CatBackward0>)\n",
            "Epoch 41: Training Loss = 0.0729   Validation Loss = 8.5738\n",
            "Epoch 42: Training Loss = 0.0302   Validation Loss = 7.9324\n",
            "Epoch 43: Training Loss = 0.0084   Validation Loss = 7.3216\n",
            "Epoch 44: Training Loss = 0.0082   Validation Loss = 6.7560\n",
            "Epoch 45: Training Loss = 0.0198   Validation Loss = 6.2484\n",
            "Epoch 46: Training Loss = 0.0327   Validation Loss = 5.7967\n",
            "Epoch 47: Training Loss = 0.0409   Validation Loss = 5.4040\n",
            "Epoch 48: Training Loss = 0.0416   Validation Loss = 5.0709\n",
            "Epoch 49: Training Loss = 0.0350   Validation Loss = 4.7921\n",
            "Epoch 50: Training Loss = 0.0242   Validation Loss = 4.5660\n",
            "Epoch 51: Training Loss = 0.0133   Validation Loss = 4.3804\n",
            "Epoch 52: Training Loss = 0.0053   Validation Loss = 4.2221\n",
            "Epoch 53: Training Loss = 0.0016   Validation Loss = 4.0765\n",
            "Epoch 54: Training Loss = 0.0024   Validation Loss = 3.9329\n",
            "Epoch 55: Training Loss = 0.0064   Validation Loss = 3.7826\n",
            "Epoch 56: Training Loss = 0.0112   Validation Loss = 3.6235\n",
            "Epoch 57: Training Loss = 0.0140   Validation Loss = 3.4561\n",
            "Epoch 58: Training Loss = 0.0139   Validation Loss = 3.2844\n",
            "Epoch 59: Training Loss = 0.0112   Validation Loss = 3.1125\n",
            "Epoch 60: Training Loss = 0.0074   Validation Loss = 2.9441\n",
            "tensor([[ -9.0828, -13.1011,   1.6374,   0.7203,   0.5623,  -0.3252,   0.3773],\n",
            "        [-13.1195, -12.0211,   1.5313,   0.6639,   0.5883,  -0.3364,   0.4028],\n",
            "        [-14.4495, -11.6436,   1.5209,   0.6604,   0.6080,  -0.3197,   0.3869],\n",
            "        [-12.3765, -12.0307,   1.5727,   0.6561,   0.5938,  -0.3266,   0.3564],\n",
            "        [-13.7975, -11.7949,   1.5542,   0.6486,   0.5996,  -0.3214,   0.3948],\n",
            "        [-10.4087, -12.6809,   1.5301,   0.6570,   0.5983,  -0.2974,   0.3705]],\n",
            "       device='cuda:0', grad_fn=<CatBackward0>)\n",
            "Epoch 61: Training Loss = 0.0037   Validation Loss = 2.7859\n",
            "Epoch 62: Training Loss = 0.0013   Validation Loss = 2.6423\n",
            "Epoch 63: Training Loss = 0.0005   Validation Loss = 2.5171\n",
            "Epoch 64: Training Loss = 0.0012   Validation Loss = 2.4132\n",
            "Epoch 65: Training Loss = 0.0026   Validation Loss = 2.3308\n",
            "Epoch 66: Training Loss = 0.0040   Validation Loss = 2.2700\n",
            "Epoch 67: Training Loss = 0.0049   Validation Loss = 2.2300\n",
            "Epoch 68: Training Loss = 0.0047   Validation Loss = 2.2079\n",
            "Epoch 69: Training Loss = 0.0037   Validation Loss = 2.1995\n",
            "Epoch 70: Training Loss = 0.0024   Validation Loss = 2.1998\n",
            "Epoch 71: Training Loss = 0.0012   Validation Loss = 2.2038\n",
            "Epoch 72: Training Loss = 0.0005   Validation Loss = 2.2079\n",
            "Epoch 73: Training Loss = 0.0003   Validation Loss = 2.2100\n",
            "Epoch 74: Training Loss = 0.0005   Validation Loss = 2.2086\n",
            "Epoch 75: Training Loss = 0.0010   Validation Loss = 2.2023\n",
            "Epoch 76: Training Loss = 0.0015   Validation Loss = 2.1896\n",
            "Epoch 77: Training Loss = 0.0017   Validation Loss = 2.1697\n",
            "Epoch 78: Training Loss = 0.0016   Validation Loss = 2.1430\n",
            "Epoch 79: Training Loss = 0.0012   Validation Loss = 2.1117\n",
            "Epoch 80: Training Loss = 0.0007   Validation Loss = 2.0790\n",
            "tensor([[-13.8676, -11.8565,   1.5846,   0.6262,   0.5992,  -0.3364,   0.3947],\n",
            "        [-14.4806, -11.7805,   1.5438,   0.6567,   0.5771,  -0.3275,   0.3794],\n",
            "        [-12.4220, -12.1297,   1.6119,   0.6635,   0.5862,  -0.3272,   0.3655],\n",
            "        [ -9.1119, -13.1777,   1.7114,   0.6926,   0.5363,  -0.3192,   0.3677],\n",
            "        [-10.4388, -12.7904,   1.5730,   0.6659,   0.5975,  -0.3029,   0.3541],\n",
            "        [-13.2017, -12.0933,   1.5753,   0.6542,   0.5734,  -0.3322,   0.3825]],\n",
            "       device='cuda:0', grad_fn=<CatBackward0>)\n",
            "Epoch 81: Training Loss = 0.0003   Validation Loss = 2.0485\n",
            "Epoch 82: Training Loss = 0.0002   Validation Loss = 2.0226\n",
            "Epoch 83: Training Loss = 0.0002   Validation Loss = 2.0024\n",
            "Epoch 84: Training Loss = 0.0003   Validation Loss = 1.9880\n",
            "Epoch 85: Training Loss = 0.0005   Validation Loss = 1.9789\n",
            "Epoch 86: Training Loss = 0.0006   Validation Loss = 1.9748\n",
            "Epoch 87: Training Loss = 0.0006   Validation Loss = 1.9753\n",
            "Epoch 88: Training Loss = 0.0005   Validation Loss = 1.9797\n",
            "Epoch 89: Training Loss = 0.0003   Validation Loss = 1.9872\n",
            "Epoch 90: Training Loss = 0.0002   Validation Loss = 1.9962\n",
            "Epoch 91: Training Loss = 0.0001   Validation Loss = 2.0054\n",
            "Epoch 92: Training Loss = 0.0001   Validation Loss = 2.0131\n",
            "Epoch 93: Training Loss = 0.0001   Validation Loss = 2.0182\n",
            "Epoch 94: Training Loss = 0.0002   Validation Loss = 2.0202\n",
            "Epoch 95: Training Loss = 0.0002   Validation Loss = 2.0190\n",
            "Epoch 96: Training Loss = 0.0002   Validation Loss = 2.0150\n",
            "Epoch 97: Training Loss = 0.0002   Validation Loss = 2.0090\n",
            "Epoch 98: Training Loss = 0.0001   Validation Loss = 2.0017\n",
            "Epoch 99: Training Loss = 0.0001   Validation Loss = 1.9938\n",
            "Epoch 100: Training Loss = 0.0000   Validation Loss = 1.9862\n"
          ]
        }
      ],
      "source": [
        "training_loss_tracker = []\n",
        "validation_loss_tracker = []\n",
        "\n",
        "KERNAL_SIZE = 7\n",
        "\n",
        "model = ResNetCBAM(BasicBlockWithCBAM, [2, 2, 2, 2], pos_dim=3, orien_dim=4)  # ResNet18-like\n",
        "device = torch.device(\"cuda\" if torch.cuda.is_available() else \"cpu\")\n",
        "model = model.to(device)\n",
        "\n",
        "\n",
        "criterion = nn.MSELoss()\n",
        "optimizer = torch.optim.Adam(model.parameters(), lr=1e-4)\n",
        "\n",
        "for epoch in range(100):\n",
        "    model.train()\n",
        "    training_loss = 0.0\n",
        "    for imgs, labels in train_loader:\n",
        "        imgs, labels = imgs.to(device), labels.to(device)\n",
        "        optimizer.zero_grad()\n",
        "        outputs = model(imgs)\n",
        "        if epoch % 20 == 0:\n",
        "            print(outputs)\n",
        "        loss = criterion(outputs, labels)\n",
        "        loss.backward()\n",
        "        optimizer.step()\n",
        "        training_loss += loss.item()\n",
        "        training_loss_tracker.append(loss.item())\n",
        "\n",
        "        model.eval()\n",
        "        validation_loss = 0.0\n",
        "        with torch.no_grad():\n",
        "            for imgs, labels in val_loader:\n",
        "                imgs, labels = imgs.to(device), labels.to(device)\n",
        "                outputs = model(imgs)\n",
        "                loss = criterion(outputs, labels)\n",
        "                validation_loss += loss.item()\n",
        "                validation_loss_tracker.append(loss.item())\n",
        "\n",
        "        validation_loss /= len(val_loader)\n",
        "\n",
        "    print(f\"Epoch {epoch+1}: Training Loss = {training_loss:.4f}   Validation Loss = {validation_loss:.4f}\")"
      ]
    },
    {
      "cell_type": "code",
      "source": [
        "import seaborn as sns\n",
        "import matplotlib.pyplot as plt\n",
        "\n",
        "sns.lineplot(x=range(len(training_loss_tracker)), y=training_loss_tracker, label='Training Loss')\n",
        "sns.lineplot(x=range(len(validation_loss_tracker)), y=validation_loss_tracker, label='Validation Loss')\n",
        "plt.xlabel('Epoch')\n",
        "plt.ylabel('Loss')\n",
        "plt.title('Training and Validation Loss Over Epochs')\n",
        "plt.legend()\n",
        "plt.show()"
      ],
      "metadata": {
        "colab": {
          "base_uri": "https://localhost:8080/",
          "height": 472
        },
        "id": "vhED6e5hRXKy",
        "outputId": "5b601765-48c5-42a5-ef15-1c9f03cfac6a"
      },
      "execution_count": null,
      "outputs": [
        {
          "output_type": "display_data",
          "data": {
            "text/plain": [
              "<Figure size 640x480 with 1 Axes>"
            ],
            "image/png": "[encoded data removed]"
          },
          "metadata": {}
        }
      ]
    },
    {
      "cell_type": "code",
      "source": [
        "# # I want to tried the early stopping but it does not stop\n",
        "\n",
        "# # Model setup\n",
        "# model = ResNetCBAM(BasicBlockWithCBAM, [2, 2, 2, 2], pos_dim=3, orien_dim=4)\n",
        "# device = torch.device(\"cuda\" if torch.cuda.is_available() else \"cpu\")\n",
        "# model = model.to(device)\n",
        "\n",
        "# criterion = nn.MSELoss()\n",
        "# optimizer = torch.optim.Adam(model.parameters(), lr=1e-4)\n",
        "\n",
        "# # --- Define training step ---\n",
        "# def train_step(engine, batch):\n",
        "#     model.train()\n",
        "#     imgs, labels = batch\n",
        "#     imgs, labels = imgs.to(device), labels.to(device)\n",
        "#     optimizer.zero_grad()\n",
        "#     outputs = model(imgs)\n",
        "#     loss = criterion(outputs, labels)\n",
        "#     loss.backward()\n",
        "#     optimizer.step()\n",
        "#     # Return outputs and labels for the Loss metric\n",
        "#     return outputs, labels\n",
        "\n",
        "# # --- Define evaluation step ---\n",
        "# def eval_step(engine, batch):\n",
        "#     model.eval()\n",
        "#     with torch.no_grad():\n",
        "#         imgs, labels = batch\n",
        "#         imgs, labels = imgs.to(device), labels.to(device)\n",
        "#         outputs = model(imgs)\n",
        "#         return outputs, labels\n",
        "\n",
        "# # Create trainer and evaluator\n",
        "# trainer = Engine(train_step)\n",
        "# evaluator = Engine(eval_step)\n",
        "\n",
        "# # Attach metrics\n",
        "# # The Loss metric for the trainer will now receive outputs and labels\n",
        "# Loss(criterion).attach(trainer, \"train_loss\")\n",
        "# Loss(criterion).attach(evaluator, \"val_loss\")\n",
        "\n",
        "# # Early stopping\n",
        "# def score_function(engine):\n",
        "#     return -engine.state.metrics[\"val_loss\"]  # Lower loss = higher score\n",
        "\n",
        "# early_stopping = EarlyStopping(patience=5, score_function=score_function, trainer=trainer)\n",
        "# evaluator.add_event_handler(Events.COMPLETED, early_stopping)\n",
        "\n",
        "# # Progress bar\n",
        "# ProgressBar().attach(trainer)\n",
        "\n",
        "# # Logging both training and validation loss\n",
        "# @trainer.on(Events.EPOCH_COMPLETED)\n",
        "# def log_results(engine):\n",
        "#     train_loss = engine.state.metrics[\"train_loss\"]\n",
        "#     evaluator.run(val_loader)\n",
        "#     val_loss = evaluator.state.metrics[\"val_loss\"]\n",
        "#     print(f\"Epoch {engine.state.epoch} - Training Loss: {train_loss:.4f} | Validation Loss: {val_loss:.4f}\")\n",
        "\n",
        "# # Start training\n",
        "# trainer.run(train_loader, max_epochs=100)"
      ],
      "metadata": {
        "id": "9PB6sE-ZPgHt"
      },
      "execution_count": null,
      "outputs": []
    },
    {
      "cell_type": "markdown",
      "source": [
        "## Test model"
      ],
      "metadata": {
        "id": "joi8pdVy_KWr"
      }
    },
    {
      "cell_type": "code",
      "source": [
        "test_dataset = PoseDataset(annotation_file='KingsCollege/dataset_test.txt', root_dir='KingsCollege')\n",
        "test_loader = torch.utils.data.DataLoader(test_dataset, batch_size=32, shuffle=True)"
      ],
      "metadata": {
        "id": "9HLOdkR6AH3c"
      },
      "execution_count": null,
      "outputs": []
    },
    {
      "cell_type": "code",
      "source": [
        "total_mse = 0.0\n",
        "for imgs, labels in test_loader:\n",
        "        imgs, labels = imgs.to(device), labels.to(device)\n",
        "        optimizer.zero_grad()\n",
        "        model.eval()\n",
        "        with torch.no_grad():\n",
        "          outputs = model(imgs)\n",
        "        mse = mean_squared_error(outputs.cpu().numpy(), labels.cpu().numpy())\n",
        "        total_mse += mse\n",
        "\n",
        "print(f\"Total Mean Square Error:{total_mse}\")"
      ],
      "metadata": {
        "colab": {
          "base_uri": "https://localhost:8080/"
        },
        "id": "fEirUrJbATTB",
        "outputId": "58402023-1ab0-430a-fc07-05e4f2d47f55"
      },
      "execution_count": null,
      "outputs": [
        {
          "output_type": "stream",
          "name": "stdout",
          "text": [
            "Total Mean Square Error:25.144695281982422\n"
          ]
        }
      ]
    }
  ]
}