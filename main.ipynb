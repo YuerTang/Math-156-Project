{
 "cells": [
  {
   "cell_type": "code",
   "execution_count": null,
   "id": "3868faea-2f5d-4912-90f3-a5ebde18f284",
   "metadata": {},
   "outputs": [],
   "source": [
    "%load_ext autoreload\n",
    "%autoreload 2"
   ]
  },
  {
   "cell_type": "code",
   "execution_count": null,
   "id": "dd4fe8ab",
   "metadata": {},
   "outputs": [],
   "source": [
    "import torch\n",
    "import torch.nn as nn\n",
    "import torch.nn.functional as F\n",
    "from data_preparation import PoseDataset\n",
    "from models import *\n",
    "import pdb\n",
    "import matplotlib.pyplot as plt\n",
    "from pathlib import Path\n",
    "from pipeline import Trainer\n",
    "import json"
   ]
  },
  {
   "cell_type": "code",
   "execution_count": null,
   "id": "4a37d202",
   "metadata": {},
   "outputs": [],
   "source": [
    "trainer = Trainer('config_folder/vgg16-sl.yaml')"
   ]
  },
  {
   "cell_type": "code",
   "execution_count": null,
   "id": "ae90b256-609f-47b4-9276-d2d1b5298d29",
   "metadata": {},
   "outputs": [],
   "source": [
    "model, history = trainer.train()"
   ]
  },
  {
   "cell_type": "code",
   "execution_count": null,
   "id": "835e4a45-9c5d-4139-bfc2-a59310ba64c4",
   "metadata": {},
   "outputs": [],
   "source": [
    "# Runs all configs\n",
    "configs_path = Path('config_folder')\n",
    "for conf in configs_path.iterdir():\n",
    "    if conf.is_file():\n",
    "        trainer = Trainer(conf)\n",
    "        trainer.train()"
   ]
  },
  {
   "cell_type": "code",
   "execution_count": null,
   "id": "415cc3ba-8069-4ab5-9228-f1903f485d28",
   "metadata": {},
   "outputs": [],
   "source": [
    "with open('experiments/VGG16_20250520_155837/history.json', 'r') as file:\n",
    "    history = json.load(file)\n",
    "    plt.plot(history['train_loss'], label='Training loss')\n",
    "    plt.plot(history['val_loss'], label='Validation loss')\n",
    "    plt.legend()\n",
    "    plt.xlabel('Epochs')\n",
    "    plt.ylabel('Loss')\n",
    "    plt.show()"
   ]
  },
  {
   "cell_type": "code",
   "execution_count": null,
   "id": "90e97dda-511e-4614-ad70-446dda4cddfc",
   "metadata": {},
   "outputs": [],
   "source": [
    "# Static loss function\n",
    "with open('experiments/ResNetCBAM_20250521_205217/history.json', 'r') as file:\n",
    "    history = json.load(file)\n",
    "    plt.plot(history['train_loss'], label='ResNetCBAM - Training loss')\n",
    "    plt.plot(history['val_loss'], label='ResNetCBAM - Validation loss')\n",
    "with open('experiments/VGG16_20250520_155837/history.json', 'r') as file:\n",
    "    history = json.load(file)\n",
    "    plt.plot(history['train_loss'], label='VGG16 - Training loss')\n",
    "    plt.plot(history['val_loss'], label='VGG16 - Validation loss')\n",
    "\n",
    "plt.title(\"Static training loss\")\n",
    "plt.legend()\n",
    "plt.xlabel('Epochs')\n",
    "plt.ylabel('Loss')\n",
    "plt.show()"
   ]
  },
  {
   "cell_type": "code",
   "execution_count": null,
   "id": "12139e35",
   "metadata": {},
   "outputs": [],
   "source": []
  }
 ],
 "metadata": {
  "kernelspec": {
   "display_name": "posenet2",
   "language": "python",
   "name": "python3"
  },
  "language_info": {
   "codemirror_mode": {
    "name": "ipython",
    "version": 3
   },
   "file_extension": ".py",
   "mimetype": "text/x-python",
   "name": "python",
   "nbconvert_exporter": "python",
   "pygments_lexer": "ipython3",
   "version": "3.13.3"
  }
 },
 "nbformat": 4,
 "nbformat_minor": 5
}
