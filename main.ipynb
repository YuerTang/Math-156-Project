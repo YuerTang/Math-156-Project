{
 "cells": [
  {
   "cell_type": "code",
   "execution_count": 1,
   "id": "3868faea-2f5d-4912-90f3-a5ebde18f284",
   "metadata": {},
   "outputs": [],
   "source": [
    "%load_ext autoreload\n",
    "%autoreload 2\n"
   ]
  },
  {
   "cell_type": "code",
   "execution_count": 30,
   "id": "b5040a3f",
   "metadata": {},
   "outputs": [
    {
     "name": "stdout",
     "output_type": "stream",
     "text": [
      "Requirement already satisfied: tqdm in /opt/anaconda3/envs/pose-cbam/lib/python3.11/site-packages (4.67.1)\n"
     ]
    }
   ],
   "source": [
    "!pip install tqdm"
   ]
  },
  {
   "cell_type": "code",
   "execution_count": 31,
   "id": "dd4fe8ab",
   "metadata": {},
   "outputs": [],
   "source": [
    "import torch\n",
    "import torch.nn as nn\n",
    "import torch.nn.functional as F\n",
    "from data_preparation import PoseDataset\n",
    "from models.resnet_attention import *\n",
    "import pdb\n",
    "import matplotlib.pyplot as plt\n",
    "from pathlib import Path\n",
    "from pipeline import Trainer\n",
    "import json"
   ]
  },
  {
   "cell_type": "code",
   "execution_count": 32,
   "id": "835e4a45-9c5d-4139-bfc2-a59310ba64c4",
   "metadata": {},
   "outputs": [
    {
     "ename": "AttributeError",
     "evalue": "'str' object has no attribute 'expansion'",
     "output_type": "error",
     "traceback": [
      "\u001b[31m---------------------------------------------------------------------------\u001b[39m",
      "\u001b[31mAttributeError\u001b[39m                            Traceback (most recent call last)",
      "\u001b[36mCell\u001b[39m\u001b[36m \u001b[39m\u001b[32mIn[32]\u001b[39m\u001b[32m, line 5\u001b[39m\n\u001b[32m      3\u001b[39m \u001b[38;5;28;01mfor\u001b[39;00m conf \u001b[38;5;129;01min\u001b[39;00m configs_path.iterdir():\n\u001b[32m      4\u001b[39m     \u001b[38;5;28;01mif\u001b[39;00m conf.is_file():\n\u001b[32m----> \u001b[39m\u001b[32m5\u001b[39m         trainer = Trainer(conf)\n\u001b[32m      6\u001b[39m         trainer.train()\n",
      "\u001b[36mFile \u001b[39m\u001b[32m~/Desktop/Math-156-Project/pipeline.py:19\u001b[39m, in \u001b[36mTrainer.__init__\u001b[39m\u001b[34m(self, config_path)\u001b[39m\n\u001b[32m     17\u001b[39m \u001b[38;5;28mself\u001b[39m.experiment_dir = \u001b[38;5;28mself\u001b[39m._create_experiment_dir()\n\u001b[32m     18\u001b[39m \u001b[38;5;28mself\u001b[39m.history = {\u001b[33m'\u001b[39m\u001b[33mtrain_loss\u001b[39m\u001b[33m'\u001b[39m: [], \u001b[33m'\u001b[39m\u001b[33mval_loss\u001b[39m\u001b[33m'\u001b[39m: []}\n\u001b[32m---> \u001b[39m\u001b[32m19\u001b[39m \u001b[38;5;28mself\u001b[39m.setup()\n",
      "\u001b[36mFile \u001b[39m\u001b[32m~/Desktop/Math-156-Project/pipeline.py:48\u001b[39m, in \u001b[36mTrainer.setup\u001b[39m\u001b[34m(self)\u001b[39m\n\u001b[32m     45\u001b[39m \u001b[38;5;28mself\u001b[39m.val_loader = \u001b[38;5;28mself\u001b[39m._get_data_loader(data_cfg, \u001b[33m'\u001b[39m\u001b[33mval\u001b[39m\u001b[33m'\u001b[39m) \u001b[38;5;28;01mif\u001b[39;00m data_cfg.get(\u001b[33m'\u001b[39m\u001b[33mval_file\u001b[39m\u001b[33m'\u001b[39m) \u001b[38;5;28;01melse\u001b[39;00m \u001b[38;5;28;01mNone\u001b[39;00m\n\u001b[32m     47\u001b[39m \u001b[38;5;66;03m# Setup model\u001b[39;00m\n\u001b[32m---> \u001b[39m\u001b[32m48\u001b[39m \u001b[38;5;28mself\u001b[39m.model = \u001b[38;5;28mself\u001b[39m._get_model()\n\u001b[32m     49\u001b[39m \u001b[38;5;28mself\u001b[39m.model = \u001b[38;5;28mself\u001b[39m.model.to(\u001b[38;5;28mself\u001b[39m.device)\n\u001b[32m     51\u001b[39m \u001b[38;5;66;03m# Setup optimizer\u001b[39;00m\n",
      "\u001b[36mFile \u001b[39m\u001b[32m~/Desktop/Math-156-Project/pipeline.py:95\u001b[39m, in \u001b[36mTrainer._get_model\u001b[39m\u001b[34m(self)\u001b[39m\n\u001b[32m     93\u001b[39m module = importlib.import_module(module_path)\n\u001b[32m     94\u001b[39m model_class = \u001b[38;5;28mgetattr\u001b[39m(module, class_name)\n\u001b[32m---> \u001b[39m\u001b[32m95\u001b[39m \u001b[38;5;28;01mreturn\u001b[39;00m model_class(**model_cfg.get(\u001b[33m'\u001b[39m\u001b[33mparams\u001b[39m\u001b[33m'\u001b[39m, {}))\n",
      "\u001b[36mFile \u001b[39m\u001b[32m~/Desktop/Math-156-Project/models/resnet_attention.py:100\u001b[39m, in \u001b[36mResNetCBAM.__init__\u001b[39m\u001b[34m(self, block, layers, num_outputs)\u001b[39m\n\u001b[32m     97\u001b[39m \u001b[38;5;28mself\u001b[39m.relu = nn.ReLU(inplace=\u001b[38;5;28;01mTrue\u001b[39;00m)\n\u001b[32m     98\u001b[39m \u001b[38;5;28mself\u001b[39m.maxpool = nn.MaxPool2d(kernel_size=\u001b[32m3\u001b[39m, stride=\u001b[32m2\u001b[39m, padding=\u001b[32m1\u001b[39m)\n\u001b[32m--> \u001b[39m\u001b[32m100\u001b[39m \u001b[38;5;28mself\u001b[39m.layer1 = \u001b[38;5;28mself\u001b[39m._make_layer(block, \u001b[32m64\u001b[39m,  layers[\u001b[32m0\u001b[39m])\n\u001b[32m    101\u001b[39m \u001b[38;5;28mself\u001b[39m.layer2 = \u001b[38;5;28mself\u001b[39m._make_layer(block, \u001b[32m128\u001b[39m, layers[\u001b[32m1\u001b[39m], stride=\u001b[32m2\u001b[39m)\n\u001b[32m    102\u001b[39m \u001b[38;5;28mself\u001b[39m.layer3 = \u001b[38;5;28mself\u001b[39m._make_layer(block, \u001b[32m256\u001b[39m, layers[\u001b[32m2\u001b[39m], stride=\u001b[32m2\u001b[39m)\n",
      "\u001b[36mFile \u001b[39m\u001b[32m~/Desktop/Math-156-Project/models/resnet_attention.py:110\u001b[39m, in \u001b[36mResNetCBAM._make_layer\u001b[39m\u001b[34m(self, block, planes, blocks, stride)\u001b[39m\n\u001b[32m    108\u001b[39m \u001b[38;5;28;01mdef\u001b[39;00m\u001b[38;5;250m \u001b[39m\u001b[34m_make_layer\u001b[39m(\u001b[38;5;28mself\u001b[39m, block, planes, blocks, stride=\u001b[32m1\u001b[39m):\n\u001b[32m    109\u001b[39m     downsample = \u001b[38;5;28;01mNone\u001b[39;00m\n\u001b[32m--> \u001b[39m\u001b[32m110\u001b[39m     \u001b[38;5;28;01mif\u001b[39;00m stride != \u001b[32m1\u001b[39m \u001b[38;5;129;01mor\u001b[39;00m \u001b[38;5;28mself\u001b[39m.in_planes != planes * block.expansion:\n\u001b[32m    111\u001b[39m         downsample = nn.Sequential(\n\u001b[32m    112\u001b[39m             nn.Conv2d(\u001b[38;5;28mself\u001b[39m.in_planes, planes * block.expansion,\n\u001b[32m    113\u001b[39m                       kernel_size=\u001b[32m1\u001b[39m, stride=stride, bias=\u001b[38;5;28;01mFalse\u001b[39;00m),\n\u001b[32m    114\u001b[39m             nn.BatchNorm2d(planes * block.expansion)\n\u001b[32m    115\u001b[39m         )\n\u001b[32m    117\u001b[39m     layers = []\n",
      "\u001b[31mAttributeError\u001b[39m: 'str' object has no attribute 'expansion'"
     ]
    }
   ],
   "source": [
    "# Run all configs\n",
    "configs_path = Path('config_folder')\n",
    "for conf in configs_path.iterdir():\n",
    "    if conf.is_file():\n",
    "        trainer = Trainer(conf)\n",
    "        trainer.train()"
   ]
  },
  {
   "cell_type": "code",
   "execution_count": 33,
   "id": "4a37d202",
   "metadata": {},
   "outputs": [],
   "source": [
    "trainer = Trainer('config_folder/vgg16.yaml')"
   ]
  },
  {
   "cell_type": "code",
   "execution_count": 34,
   "id": "08b714bf",
   "metadata": {},
   "outputs": [
    {
     "ename": "AttributeError",
     "evalue": "'str' object has no attribute 'expansion'",
     "output_type": "error",
     "traceback": [
      "\u001b[31m---------------------------------------------------------------------------\u001b[39m",
      "\u001b[31mAttributeError\u001b[39m                            Traceback (most recent call last)",
      "\u001b[36mCell\u001b[39m\u001b[36m \u001b[39m\u001b[32mIn[34]\u001b[39m\u001b[32m, line 1\u001b[39m\n\u001b[32m----> \u001b[39m\u001b[32m1\u001b[39m trainer = Trainer(\u001b[33m'\u001b[39m\u001b[33mconfig_folder/cbam.yaml\u001b[39m\u001b[33m'\u001b[39m)  \u001b[38;5;66;03m# ← just a string\u001b[39;00m\n\u001b[32m      3\u001b[39m model,history = trainer.train()\n",
      "\u001b[36mFile \u001b[39m\u001b[32m~/Desktop/Math-156-Project/pipeline.py:19\u001b[39m, in \u001b[36mTrainer.__init__\u001b[39m\u001b[34m(self, config_path)\u001b[39m\n\u001b[32m     17\u001b[39m \u001b[38;5;28mself\u001b[39m.experiment_dir = \u001b[38;5;28mself\u001b[39m._create_experiment_dir()\n\u001b[32m     18\u001b[39m \u001b[38;5;28mself\u001b[39m.history = {\u001b[33m'\u001b[39m\u001b[33mtrain_loss\u001b[39m\u001b[33m'\u001b[39m: [], \u001b[33m'\u001b[39m\u001b[33mval_loss\u001b[39m\u001b[33m'\u001b[39m: []}\n\u001b[32m---> \u001b[39m\u001b[32m19\u001b[39m \u001b[38;5;28mself\u001b[39m.setup()\n",
      "\u001b[36mFile \u001b[39m\u001b[32m~/Desktop/Math-156-Project/pipeline.py:48\u001b[39m, in \u001b[36mTrainer.setup\u001b[39m\u001b[34m(self)\u001b[39m\n\u001b[32m     45\u001b[39m \u001b[38;5;28mself\u001b[39m.val_loader = \u001b[38;5;28mself\u001b[39m._get_data_loader(data_cfg, \u001b[33m'\u001b[39m\u001b[33mval\u001b[39m\u001b[33m'\u001b[39m) \u001b[38;5;28;01mif\u001b[39;00m data_cfg.get(\u001b[33m'\u001b[39m\u001b[33mval_file\u001b[39m\u001b[33m'\u001b[39m) \u001b[38;5;28;01melse\u001b[39;00m \u001b[38;5;28;01mNone\u001b[39;00m\n\u001b[32m     47\u001b[39m \u001b[38;5;66;03m# Setup model\u001b[39;00m\n\u001b[32m---> \u001b[39m\u001b[32m48\u001b[39m \u001b[38;5;28mself\u001b[39m.model = \u001b[38;5;28mself\u001b[39m._get_model()\n\u001b[32m     49\u001b[39m \u001b[38;5;28mself\u001b[39m.model = \u001b[38;5;28mself\u001b[39m.model.to(\u001b[38;5;28mself\u001b[39m.device)\n\u001b[32m     51\u001b[39m \u001b[38;5;66;03m# Setup optimizer\u001b[39;00m\n",
      "\u001b[36mFile \u001b[39m\u001b[32m~/Desktop/Math-156-Project/pipeline.py:95\u001b[39m, in \u001b[36mTrainer._get_model\u001b[39m\u001b[34m(self)\u001b[39m\n\u001b[32m     93\u001b[39m module = importlib.import_module(module_path)\n\u001b[32m     94\u001b[39m model_class = \u001b[38;5;28mgetattr\u001b[39m(module, class_name)\n\u001b[32m---> \u001b[39m\u001b[32m95\u001b[39m \u001b[38;5;28;01mreturn\u001b[39;00m model_class(**model_cfg.get(\u001b[33m'\u001b[39m\u001b[33mparams\u001b[39m\u001b[33m'\u001b[39m, {}))\n",
      "\u001b[36mFile \u001b[39m\u001b[32m~/Desktop/Math-156-Project/models/resnet_attention.py:100\u001b[39m, in \u001b[36mResNetCBAM.__init__\u001b[39m\u001b[34m(self, block, layers, num_outputs)\u001b[39m\n\u001b[32m     97\u001b[39m \u001b[38;5;28mself\u001b[39m.relu = nn.ReLU(inplace=\u001b[38;5;28;01mTrue\u001b[39;00m)\n\u001b[32m     98\u001b[39m \u001b[38;5;28mself\u001b[39m.maxpool = nn.MaxPool2d(kernel_size=\u001b[32m3\u001b[39m, stride=\u001b[32m2\u001b[39m, padding=\u001b[32m1\u001b[39m)\n\u001b[32m--> \u001b[39m\u001b[32m100\u001b[39m \u001b[38;5;28mself\u001b[39m.layer1 = \u001b[38;5;28mself\u001b[39m._make_layer(block, \u001b[32m64\u001b[39m,  layers[\u001b[32m0\u001b[39m])\n\u001b[32m    101\u001b[39m \u001b[38;5;28mself\u001b[39m.layer2 = \u001b[38;5;28mself\u001b[39m._make_layer(block, \u001b[32m128\u001b[39m, layers[\u001b[32m1\u001b[39m], stride=\u001b[32m2\u001b[39m)\n\u001b[32m    102\u001b[39m \u001b[38;5;28mself\u001b[39m.layer3 = \u001b[38;5;28mself\u001b[39m._make_layer(block, \u001b[32m256\u001b[39m, layers[\u001b[32m2\u001b[39m], stride=\u001b[32m2\u001b[39m)\n",
      "\u001b[36mFile \u001b[39m\u001b[32m~/Desktop/Math-156-Project/models/resnet_attention.py:110\u001b[39m, in \u001b[36mResNetCBAM._make_layer\u001b[39m\u001b[34m(self, block, planes, blocks, stride)\u001b[39m\n\u001b[32m    108\u001b[39m \u001b[38;5;28;01mdef\u001b[39;00m\u001b[38;5;250m \u001b[39m\u001b[34m_make_layer\u001b[39m(\u001b[38;5;28mself\u001b[39m, block, planes, blocks, stride=\u001b[32m1\u001b[39m):\n\u001b[32m    109\u001b[39m     downsample = \u001b[38;5;28;01mNone\u001b[39;00m\n\u001b[32m--> \u001b[39m\u001b[32m110\u001b[39m     \u001b[38;5;28;01mif\u001b[39;00m stride != \u001b[32m1\u001b[39m \u001b[38;5;129;01mor\u001b[39;00m \u001b[38;5;28mself\u001b[39m.in_planes != planes * block.expansion:\n\u001b[32m    111\u001b[39m         downsample = nn.Sequential(\n\u001b[32m    112\u001b[39m             nn.Conv2d(\u001b[38;5;28mself\u001b[39m.in_planes, planes * block.expansion,\n\u001b[32m    113\u001b[39m                       kernel_size=\u001b[32m1\u001b[39m, stride=stride, bias=\u001b[38;5;28;01mFalse\u001b[39;00m),\n\u001b[32m    114\u001b[39m             nn.BatchNorm2d(planes * block.expansion)\n\u001b[32m    115\u001b[39m         )\n\u001b[32m    117\u001b[39m     layers = []\n",
      "\u001b[31mAttributeError\u001b[39m: 'str' object has no attribute 'expansion'"
     ]
    }
   ],
   "source": [
    "trainer = Trainer('config_folder/cbam.yaml')  # ← just a string\n",
    "\n",
    "model,history = trainer.train()"
   ]
  },
  {
   "cell_type": "code",
   "execution_count": 19,
   "id": "ae90b256-609f-47b4-9276-d2d1b5298d29",
   "metadata": {
    "scrolled": true
   },
   "outputs": [
    {
     "name": "stdout",
     "output_type": "stream",
     "text": [
      "Training baselines.VGG16 with parameters:\n",
      "None\n",
      "Epoch 1/50: Train Loss = 617.5928, Val Loss = 514.2189\n"
     ]
    },
    {
     "ename": "KeyboardInterrupt",
     "evalue": "",
     "output_type": "error",
     "traceback": [
      "\u001b[31m---------------------------------------------------------------------------\u001b[39m",
      "\u001b[31mKeyboardInterrupt\u001b[39m                         Traceback (most recent call last)",
      "\u001b[36mCell\u001b[39m\u001b[36m \u001b[39m\u001b[32mIn[19]\u001b[39m\u001b[32m, line 1\u001b[39m\n\u001b[32m----> \u001b[39m\u001b[32m1\u001b[39m model, history = trainer.train()\n",
      "\u001b[36mFile \u001b[39m\u001b[32m~/Desktop/Math-156-Project/pipeline.py:145\u001b[39m, in \u001b[36mTrainer.train\u001b[39m\u001b[34m(self)\u001b[39m\n\u001b[32m    143\u001b[39m epochs = \u001b[38;5;28mself\u001b[39m.config.get(\u001b[33m'\u001b[39m\u001b[33mepochs\u001b[39m\u001b[33m'\u001b[39m, \u001b[32m100\u001b[39m)\n\u001b[32m    144\u001b[39m \u001b[38;5;28;01mfor\u001b[39;00m epoch \u001b[38;5;129;01min\u001b[39;00m \u001b[38;5;28mrange\u001b[39m(epochs):\n\u001b[32m--> \u001b[39m\u001b[32m145\u001b[39m     train_loss = \u001b[38;5;28mself\u001b[39m.train_epoch()\n\u001b[32m    146\u001b[39m     val_loss = \u001b[38;5;28mself\u001b[39m.validate()\n\u001b[32m    148\u001b[39m     \u001b[38;5;66;03m# Record history\u001b[39;00m\n",
      "\u001b[36mFile \u001b[39m\u001b[32m~/Desktop/Math-156-Project/pipeline.py:109\u001b[39m, in \u001b[36mTrainer.train_epoch\u001b[39m\u001b[34m(self)\u001b[39m\n\u001b[32m    106\u001b[39m imgs, labels = imgs.to(\u001b[38;5;28mself\u001b[39m.device), labels.to(\u001b[38;5;28mself\u001b[39m.device)\n\u001b[32m    108\u001b[39m \u001b[38;5;28mself\u001b[39m.optimizer.zero_grad()\n\u001b[32m--> \u001b[39m\u001b[32m109\u001b[39m outputs = \u001b[38;5;28mself\u001b[39m.model(imgs)\n\u001b[32m    110\u001b[39m loss = \u001b[38;5;28mself\u001b[39m.criterion(outputs, labels)\n\u001b[32m    111\u001b[39m \u001b[38;5;66;03m# print(loss, outputs.shape, labels.shape)\u001b[39;00m\n\u001b[32m    112\u001b[39m \u001b[38;5;66;03m# print(nn.MSELoss()(outputs, labels))\u001b[39;00m\n",
      "\u001b[36mFile \u001b[39m\u001b[32m/opt/anaconda3/envs/pose-cbam/lib/python3.11/site-packages/torch/nn/modules/module.py:1736\u001b[39m, in \u001b[36mModule._wrapped_call_impl\u001b[39m\u001b[34m(self, *args, **kwargs)\u001b[39m\n\u001b[32m   1734\u001b[39m     \u001b[38;5;28;01mreturn\u001b[39;00m \u001b[38;5;28mself\u001b[39m._compiled_call_impl(*args, **kwargs)  \u001b[38;5;66;03m# type: ignore[misc]\u001b[39;00m\n\u001b[32m   1735\u001b[39m \u001b[38;5;28;01melse\u001b[39;00m:\n\u001b[32m-> \u001b[39m\u001b[32m1736\u001b[39m     \u001b[38;5;28;01mreturn\u001b[39;00m \u001b[38;5;28mself\u001b[39m._call_impl(*args, **kwargs)\n",
      "\u001b[36mFile \u001b[39m\u001b[32m/opt/anaconda3/envs/pose-cbam/lib/python3.11/site-packages/torch/nn/modules/module.py:1747\u001b[39m, in \u001b[36mModule._call_impl\u001b[39m\u001b[34m(self, *args, **kwargs)\u001b[39m\n\u001b[32m   1742\u001b[39m \u001b[38;5;66;03m# If we don't have any hooks, we want to skip the rest of the logic in\u001b[39;00m\n\u001b[32m   1743\u001b[39m \u001b[38;5;66;03m# this function, and just call forward.\u001b[39;00m\n\u001b[32m   1744\u001b[39m \u001b[38;5;28;01mif\u001b[39;00m \u001b[38;5;129;01mnot\u001b[39;00m (\u001b[38;5;28mself\u001b[39m._backward_hooks \u001b[38;5;129;01mor\u001b[39;00m \u001b[38;5;28mself\u001b[39m._backward_pre_hooks \u001b[38;5;129;01mor\u001b[39;00m \u001b[38;5;28mself\u001b[39m._forward_hooks \u001b[38;5;129;01mor\u001b[39;00m \u001b[38;5;28mself\u001b[39m._forward_pre_hooks\n\u001b[32m   1745\u001b[39m         \u001b[38;5;129;01mor\u001b[39;00m _global_backward_pre_hooks \u001b[38;5;129;01mor\u001b[39;00m _global_backward_hooks\n\u001b[32m   1746\u001b[39m         \u001b[38;5;129;01mor\u001b[39;00m _global_forward_hooks \u001b[38;5;129;01mor\u001b[39;00m _global_forward_pre_hooks):\n\u001b[32m-> \u001b[39m\u001b[32m1747\u001b[39m     \u001b[38;5;28;01mreturn\u001b[39;00m forward_call(*args, **kwargs)\n\u001b[32m   1749\u001b[39m result = \u001b[38;5;28;01mNone\u001b[39;00m\n\u001b[32m   1750\u001b[39m called_always_called_hooks = \u001b[38;5;28mset\u001b[39m()\n",
      "\u001b[36mFile \u001b[39m\u001b[32m~/Desktop/Math-156-Project/baselines/VGG16.py:65\u001b[39m, in \u001b[36mVGG16.forward\u001b[39m\u001b[34m(self, x)\u001b[39m\n\u001b[32m     64\u001b[39m \u001b[38;5;28;01mdef\u001b[39;00m\u001b[38;5;250m \u001b[39m\u001b[34mforward\u001b[39m(\u001b[38;5;28mself\u001b[39m, x):\n\u001b[32m---> \u001b[39m\u001b[32m65\u001b[39m     x = \u001b[38;5;28mself\u001b[39m.features(x)\n\u001b[32m     66\u001b[39m     x = torch.flatten(x, \u001b[32m1\u001b[39m)\n\u001b[32m     67\u001b[39m     x = \u001b[38;5;28mself\u001b[39m.regressor(x)\n",
      "\u001b[36mFile \u001b[39m\u001b[32m/opt/anaconda3/envs/pose-cbam/lib/python3.11/site-packages/torch/nn/modules/module.py:1736\u001b[39m, in \u001b[36mModule._wrapped_call_impl\u001b[39m\u001b[34m(self, *args, **kwargs)\u001b[39m\n\u001b[32m   1734\u001b[39m     \u001b[38;5;28;01mreturn\u001b[39;00m \u001b[38;5;28mself\u001b[39m._compiled_call_impl(*args, **kwargs)  \u001b[38;5;66;03m# type: ignore[misc]\u001b[39;00m\n\u001b[32m   1735\u001b[39m \u001b[38;5;28;01melse\u001b[39;00m:\n\u001b[32m-> \u001b[39m\u001b[32m1736\u001b[39m     \u001b[38;5;28;01mreturn\u001b[39;00m \u001b[38;5;28mself\u001b[39m._call_impl(*args, **kwargs)\n",
      "\u001b[36mFile \u001b[39m\u001b[32m/opt/anaconda3/envs/pose-cbam/lib/python3.11/site-packages/torch/nn/modules/module.py:1747\u001b[39m, in \u001b[36mModule._call_impl\u001b[39m\u001b[34m(self, *args, **kwargs)\u001b[39m\n\u001b[32m   1742\u001b[39m \u001b[38;5;66;03m# If we don't have any hooks, we want to skip the rest of the logic in\u001b[39;00m\n\u001b[32m   1743\u001b[39m \u001b[38;5;66;03m# this function, and just call forward.\u001b[39;00m\n\u001b[32m   1744\u001b[39m \u001b[38;5;28;01mif\u001b[39;00m \u001b[38;5;129;01mnot\u001b[39;00m (\u001b[38;5;28mself\u001b[39m._backward_hooks \u001b[38;5;129;01mor\u001b[39;00m \u001b[38;5;28mself\u001b[39m._backward_pre_hooks \u001b[38;5;129;01mor\u001b[39;00m \u001b[38;5;28mself\u001b[39m._forward_hooks \u001b[38;5;129;01mor\u001b[39;00m \u001b[38;5;28mself\u001b[39m._forward_pre_hooks\n\u001b[32m   1745\u001b[39m         \u001b[38;5;129;01mor\u001b[39;00m _global_backward_pre_hooks \u001b[38;5;129;01mor\u001b[39;00m _global_backward_hooks\n\u001b[32m   1746\u001b[39m         \u001b[38;5;129;01mor\u001b[39;00m _global_forward_hooks \u001b[38;5;129;01mor\u001b[39;00m _global_forward_pre_hooks):\n\u001b[32m-> \u001b[39m\u001b[32m1747\u001b[39m     \u001b[38;5;28;01mreturn\u001b[39;00m forward_call(*args, **kwargs)\n\u001b[32m   1749\u001b[39m result = \u001b[38;5;28;01mNone\u001b[39;00m\n\u001b[32m   1750\u001b[39m called_always_called_hooks = \u001b[38;5;28mset\u001b[39m()\n",
      "\u001b[36mFile \u001b[39m\u001b[32m/opt/anaconda3/envs/pose-cbam/lib/python3.11/site-packages/torch/nn/modules/container.py:250\u001b[39m, in \u001b[36mSequential.forward\u001b[39m\u001b[34m(self, input)\u001b[39m\n\u001b[32m    248\u001b[39m \u001b[38;5;28;01mdef\u001b[39;00m\u001b[38;5;250m \u001b[39m\u001b[34mforward\u001b[39m(\u001b[38;5;28mself\u001b[39m, \u001b[38;5;28minput\u001b[39m):\n\u001b[32m    249\u001b[39m     \u001b[38;5;28;01mfor\u001b[39;00m module \u001b[38;5;129;01min\u001b[39;00m \u001b[38;5;28mself\u001b[39m:\n\u001b[32m--> \u001b[39m\u001b[32m250\u001b[39m         \u001b[38;5;28minput\u001b[39m = module(\u001b[38;5;28minput\u001b[39m)\n\u001b[32m    251\u001b[39m     \u001b[38;5;28;01mreturn\u001b[39;00m \u001b[38;5;28minput\u001b[39m\n",
      "\u001b[36mFile \u001b[39m\u001b[32m/opt/anaconda3/envs/pose-cbam/lib/python3.11/site-packages/torch/nn/modules/module.py:1736\u001b[39m, in \u001b[36mModule._wrapped_call_impl\u001b[39m\u001b[34m(self, *args, **kwargs)\u001b[39m\n\u001b[32m   1734\u001b[39m     \u001b[38;5;28;01mreturn\u001b[39;00m \u001b[38;5;28mself\u001b[39m._compiled_call_impl(*args, **kwargs)  \u001b[38;5;66;03m# type: ignore[misc]\u001b[39;00m\n\u001b[32m   1735\u001b[39m \u001b[38;5;28;01melse\u001b[39;00m:\n\u001b[32m-> \u001b[39m\u001b[32m1736\u001b[39m     \u001b[38;5;28;01mreturn\u001b[39;00m \u001b[38;5;28mself\u001b[39m._call_impl(*args, **kwargs)\n",
      "\u001b[36mFile \u001b[39m\u001b[32m/opt/anaconda3/envs/pose-cbam/lib/python3.11/site-packages/torch/nn/modules/module.py:1747\u001b[39m, in \u001b[36mModule._call_impl\u001b[39m\u001b[34m(self, *args, **kwargs)\u001b[39m\n\u001b[32m   1742\u001b[39m \u001b[38;5;66;03m# If we don't have any hooks, we want to skip the rest of the logic in\u001b[39;00m\n\u001b[32m   1743\u001b[39m \u001b[38;5;66;03m# this function, and just call forward.\u001b[39;00m\n\u001b[32m   1744\u001b[39m \u001b[38;5;28;01mif\u001b[39;00m \u001b[38;5;129;01mnot\u001b[39;00m (\u001b[38;5;28mself\u001b[39m._backward_hooks \u001b[38;5;129;01mor\u001b[39;00m \u001b[38;5;28mself\u001b[39m._backward_pre_hooks \u001b[38;5;129;01mor\u001b[39;00m \u001b[38;5;28mself\u001b[39m._forward_hooks \u001b[38;5;129;01mor\u001b[39;00m \u001b[38;5;28mself\u001b[39m._forward_pre_hooks\n\u001b[32m   1745\u001b[39m         \u001b[38;5;129;01mor\u001b[39;00m _global_backward_pre_hooks \u001b[38;5;129;01mor\u001b[39;00m _global_backward_hooks\n\u001b[32m   1746\u001b[39m         \u001b[38;5;129;01mor\u001b[39;00m _global_forward_hooks \u001b[38;5;129;01mor\u001b[39;00m _global_forward_pre_hooks):\n\u001b[32m-> \u001b[39m\u001b[32m1747\u001b[39m     \u001b[38;5;28;01mreturn\u001b[39;00m forward_call(*args, **kwargs)\n\u001b[32m   1749\u001b[39m result = \u001b[38;5;28;01mNone\u001b[39;00m\n\u001b[32m   1750\u001b[39m called_always_called_hooks = \u001b[38;5;28mset\u001b[39m()\n",
      "\u001b[36mFile \u001b[39m\u001b[32m/opt/anaconda3/envs/pose-cbam/lib/python3.11/site-packages/torch/nn/modules/conv.py:554\u001b[39m, in \u001b[36mConv2d.forward\u001b[39m\u001b[34m(self, input)\u001b[39m\n\u001b[32m    553\u001b[39m \u001b[38;5;28;01mdef\u001b[39;00m\u001b[38;5;250m \u001b[39m\u001b[34mforward\u001b[39m(\u001b[38;5;28mself\u001b[39m, \u001b[38;5;28minput\u001b[39m: Tensor) -> Tensor:\n\u001b[32m--> \u001b[39m\u001b[32m554\u001b[39m     \u001b[38;5;28;01mreturn\u001b[39;00m \u001b[38;5;28mself\u001b[39m._conv_forward(\u001b[38;5;28minput\u001b[39m, \u001b[38;5;28mself\u001b[39m.weight, \u001b[38;5;28mself\u001b[39m.bias)\n",
      "\u001b[36mFile \u001b[39m\u001b[32m/opt/anaconda3/envs/pose-cbam/lib/python3.11/site-packages/torch/nn/modules/conv.py:549\u001b[39m, in \u001b[36mConv2d._conv_forward\u001b[39m\u001b[34m(self, input, weight, bias)\u001b[39m\n\u001b[32m    537\u001b[39m \u001b[38;5;28;01mif\u001b[39;00m \u001b[38;5;28mself\u001b[39m.padding_mode != \u001b[33m\"\u001b[39m\u001b[33mzeros\u001b[39m\u001b[33m\"\u001b[39m:\n\u001b[32m    538\u001b[39m     \u001b[38;5;28;01mreturn\u001b[39;00m F.conv2d(\n\u001b[32m    539\u001b[39m         F.pad(\n\u001b[32m    540\u001b[39m             \u001b[38;5;28minput\u001b[39m, \u001b[38;5;28mself\u001b[39m._reversed_padding_repeated_twice, mode=\u001b[38;5;28mself\u001b[39m.padding_mode\n\u001b[32m   (...)\u001b[39m\u001b[32m    547\u001b[39m         \u001b[38;5;28mself\u001b[39m.groups,\n\u001b[32m    548\u001b[39m     )\n\u001b[32m--> \u001b[39m\u001b[32m549\u001b[39m \u001b[38;5;28;01mreturn\u001b[39;00m F.conv2d(\n\u001b[32m    550\u001b[39m     \u001b[38;5;28minput\u001b[39m, weight, bias, \u001b[38;5;28mself\u001b[39m.stride, \u001b[38;5;28mself\u001b[39m.padding, \u001b[38;5;28mself\u001b[39m.dilation, \u001b[38;5;28mself\u001b[39m.groups\n\u001b[32m    551\u001b[39m )\n",
      "\u001b[31mKeyboardInterrupt\u001b[39m: "
     ]
    }
   ],
   "source": [
    "model, history = trainer.train()"
   ]
  },
  {
   "cell_type": "code",
   "execution_count": null,
   "id": "415cc3ba-8069-4ab5-9228-f1903f485d28",
   "metadata": {
    "jupyter": {
     "source_hidden": true
    }
   },
   "outputs": [
    {
     "ename": "FileNotFoundError",
     "evalue": "[Errno 2] No such file or directory: 'experiments/VGG16_20250520_155837/history.json'",
     "output_type": "error",
     "traceback": [
      "\u001b[31m---------------------------------------------------------------------------\u001b[39m",
      "\u001b[31mFileNotFoundError\u001b[39m                         Traceback (most recent call last)",
      "\u001b[36mCell\u001b[39m\u001b[36m \u001b[39m\u001b[32mIn[5]\u001b[39m\u001b[32m, line 1\u001b[39m\n\u001b[32m----> \u001b[39m\u001b[32m1\u001b[39m \u001b[38;5;28;01mwith\u001b[39;00m \u001b[38;5;28mopen\u001b[39m(\u001b[33m'\u001b[39m\u001b[33mexperiments/VGG16_20250520_155837/history.json\u001b[39m\u001b[33m'\u001b[39m, \u001b[33m'\u001b[39m\u001b[33mr\u001b[39m\u001b[33m'\u001b[39m) \u001b[38;5;28;01mas\u001b[39;00m file:\n\u001b[32m      2\u001b[39m     history = json.load(file)\n\u001b[32m      3\u001b[39m     plt.plot(history[\u001b[33m'\u001b[39m\u001b[33mtrain_loss\u001b[39m\u001b[33m'\u001b[39m], label=\u001b[33m'\u001b[39m\u001b[33mTraining loss\u001b[39m\u001b[33m'\u001b[39m)\n",
      "\u001b[36mFile \u001b[39m\u001b[32m/opt/anaconda3/envs/pose-cbam/lib/python3.11/site-packages/IPython/core/interactiveshell.py:326\u001b[39m, in \u001b[36m_modified_open\u001b[39m\u001b[34m(file, *args, **kwargs)\u001b[39m\n\u001b[32m    319\u001b[39m \u001b[38;5;28;01mif\u001b[39;00m file \u001b[38;5;129;01min\u001b[39;00m {\u001b[32m0\u001b[39m, \u001b[32m1\u001b[39m, \u001b[32m2\u001b[39m}:\n\u001b[32m    320\u001b[39m     \u001b[38;5;28;01mraise\u001b[39;00m \u001b[38;5;167;01mValueError\u001b[39;00m(\n\u001b[32m    321\u001b[39m         \u001b[33mf\u001b[39m\u001b[33m\"\u001b[39m\u001b[33mIPython won\u001b[39m\u001b[33m'\u001b[39m\u001b[33mt let you open fd=\u001b[39m\u001b[38;5;132;01m{\u001b[39;00mfile\u001b[38;5;132;01m}\u001b[39;00m\u001b[33m by default \u001b[39m\u001b[33m\"\u001b[39m\n\u001b[32m    322\u001b[39m         \u001b[33m\"\u001b[39m\u001b[33mas it is likely to crash IPython. If you know what you are doing, \u001b[39m\u001b[33m\"\u001b[39m\n\u001b[32m    323\u001b[39m         \u001b[33m\"\u001b[39m\u001b[33myou can use builtins\u001b[39m\u001b[33m'\u001b[39m\u001b[33m open.\u001b[39m\u001b[33m\"\u001b[39m\n\u001b[32m    324\u001b[39m     )\n\u001b[32m--> \u001b[39m\u001b[32m326\u001b[39m \u001b[38;5;28;01mreturn\u001b[39;00m io_open(file, *args, **kwargs)\n",
      "\u001b[31mFileNotFoundError\u001b[39m: [Errno 2] No such file or directory: 'experiments/VGG16_20250520_155837/history.json'"
     ]
    }
   ],
   "source": [
    "with open('experiments/VGG16_20250520_155837/history.json', 'r') as file:\n",
    "    history = json.load(file)\n",
    "    plt.plot(history['train_loss'], label='Training loss')\n",
    "    plt.plot(history['val_loss'], label='Validation loss')\n",
    "    plt.legend()\n",
    "    plt.xlabel('Epochs')\n",
    "    plt.ylabel('Loss')\n",
    "    plt.show()"
   ]
  },
  {
   "cell_type": "code",
   "execution_count": null,
   "id": "36489112-c0cc-49bd-bc2d-a366962c5ddd",
   "metadata": {},
   "outputs": [],
   "source": []
  },
  {
   "cell_type": "code",
   "execution_count": null,
   "id": "55202040",
   "metadata": {},
   "outputs": [],
   "source": []
  },
  {
   "cell_type": "code",
   "execution_count": null,
   "id": "7581765a",
   "metadata": {},
   "outputs": [],
   "source": []
  }
 ],
 "metadata": {
  "kernelspec": {
   "display_name": "Python 3 (ipykernel)",
   "language": "python",
   "name": "python3"
  },
  "language_info": {
   "codemirror_mode": {
    "name": "ipython",
    "version": 3
   },
   "file_extension": ".py",
   "mimetype": "text/x-python",
   "name": "python",
   "nbconvert_exporter": "python",
   "pygments_lexer": "ipython3",
   "version": "3.11.11"
  }
 },
 "nbformat": 4,
 "nbformat_minor": 5
}
