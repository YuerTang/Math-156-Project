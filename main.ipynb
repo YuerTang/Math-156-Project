{
 "cells": [
  {
   "cell_type": "code",
   "execution_count": 4,
   "id": "3868faea-2f5d-4912-90f3-a5ebde18f284",
   "metadata": {},
   "outputs": [
    {
     "name": "stdout",
     "output_type": "stream",
     "text": [
      "The autoreload extension is already loaded. To reload it, use:\n",
      "  %reload_ext autoreload\n"
     ]
    }
   ],
   "source": [
    "%load_ext autoreload\n",
    "%autoreload 2"
   ]
  },
  {
   "cell_type": "code",
   "execution_count": 5,
   "id": "dd4fe8ab",
   "metadata": {},
   "outputs": [],
   "source": [
    "import torch\n",
    "import torch.nn as nn\n",
    "import torch.nn.functional as F\n",
    "from data_preparation import PoseDataset\n",
    "from models import *\n",
    "import pdb\n",
    "import matplotlib.pyplot as plt\n",
    "from pathlib import Path\n",
    "from pipeline import Trainer\n",
    "import json"
   ]
  },
  {
   "cell_type": "code",
   "execution_count": 6,
   "id": "4a37d202",
   "metadata": {},
   "outputs": [],
   "source": [
    "trainer = Trainer('config_folder/cbam.yaml')"
   ]
  },
  {
   "cell_type": "code",
   "execution_count": null,
   "id": "ae90b256-609f-47b4-9276-d2d1b5298d29",
   "metadata": {},
   "outputs": [
    {
     "name": "stdout",
     "output_type": "stream",
     "text": [
      "Training models.ResNetCBAM with parameters:\n",
      "{'block_name': 'models.BasicBlockWithCBAM', 'layers': [2, 2, 2, 2], 'num_outputs': 7}\n",
      "Epoch 1/50: Train Loss = 667.2881, Val Loss = 574.1508\n",
      "Epoch 2/50: Train Loss = 497.0914, Val Loss = 639.5832\n",
      "Epoch 3/50: Train Loss = 359.8737, Val Loss = 545.1284\n",
      "Epoch 4/50: Train Loss = 250.0848, Val Loss = 345.7693\n",
      "Epoch 5/50: Train Loss = 175.4217, Val Loss = 293.4361\n",
      "Epoch 6/50: Train Loss = 132.6671, Val Loss = 316.6597\n",
      "Epoch 7/50: Train Loss = 108.7500, Val Loss = 177.7470\n",
      "Epoch 8/50: Train Loss = 77.6753, Val Loss = 68.8571\n"
     ]
    }
   ],
   "source": [
    "model, history = trainer.train()"
   ]
  },
  {
   "cell_type": "code",
   "execution_count": null,
   "id": "835e4a45-9c5d-4139-bfc2-a59310ba64c4",
   "metadata": {},
   "outputs": [],
   "source": [
    "# Runs all configs\n",
    "configs_path = Path('config_folder')\n",
    "for conf in configs_path.iterdir():\n",
    "    if conf.is_file():\n",
    "        trainer = Trainer(conf)\n",
    "        trainer.train()"
   ]
  },
  {
   "cell_type": "code",
   "execution_count": null,
   "id": "415cc3ba-8069-4ab5-9228-f1903f485d28",
   "metadata": {},
   "outputs": [],
   "source": [
    "with open('experiments/VGG16_20250520_155837/history.json', 'r') as file:\n",
    "    history = json.load(file)\n",
    "    plt.plot(history['train_loss'], label='Training loss')\n",
    "    plt.plot(history['val_loss'], label='Validation loss')\n",
    "    plt.legend()\n",
    "    plt.xlabel('Epochs')\n",
    "    plt.ylabel('Loss')\n",
    "    plt.show()"
   ]
  },
  {
   "cell_type": "code",
   "execution_count": null,
   "id": "90e97dda-511e-4614-ad70-446dda4cddfc",
   "metadata": {},
   "outputs": [],
   "source": []
  }
 ],
 "metadata": {
  "kernelspec": {
   "display_name": "Python 3 (ipykernel)",
   "language": "python",
   "name": "python3"
  },
  "language_info": {
   "codemirror_mode": {
    "name": "ipython",
    "version": 3
   },
   "file_extension": ".py",
   "mimetype": "text/x-python",
   "name": "python",
   "nbconvert_exporter": "python",
   "pygments_lexer": "ipython3",
   "version": "3.13.3"
  }
 },
 "nbformat": 4,
 "nbformat_minor": 5
}
